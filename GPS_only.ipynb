{
 "cells": [
  {
   "cell_type": "markdown",
   "metadata": {},
   "source": [
    "# GPS単体の測位結果を用いて近似曲線を引くプログラム"
   ]
  },
  {
   "cell_type": "code",
   "execution_count": 2,
   "metadata": {},
   "outputs": [],
   "source": [
    "import pandas as pd\n",
    "import numpy as np\n",
    "import matplotlib.pyplot as plt\n",
    "from IPython.display import display\n",
    "from IPython.display import Math\n",
    "import itertools\n",
    "from decimal import Decimal,ROUND_HALF_UP\n",
    "from sklearn.metrics import r2_score\n",
    "from scipy.optimize import curve_fit\n",
    "from tqdm import tqdm\n",
    "import tendline\n",
    "import RMS_GPS_only\n",
    "import os\n",
   ]
  },
  {
   "cell_type": "code",
   "execution_count": 3,
   "metadata": {},
   "outputs": [],
   "source": [
    "\"\"\"DataFrameの成型\"\"\"\n",
    "\n",
    "def DataFrame(df,x,y):\n",
    "    y_ave=np.zeros((len(y),1))\n",
    "    \n",
    "    #DataFrame_空白行削除 x,y更新\n",
    "    print(\"空白行の削除中\")\n",
    "    for i in tqdm(range(len(df)-1,-1,-1)):\n",
    "      k=0\n",
    "      for j in range(len(df.columns)):\n",
    "        if pd.isna(df.iloc[i,j])==True:\n",
    "            k+=1\n",
    "            if k==len(df.columns):\n",
    "               x.drop(index=i,inplace=True)\n",
    "               y.drop(index=i,inplace=True)\n",
    "\n",
    "    x.reset_index(inplace=True,drop=True)\n",
    "    y.reset_index(inplace=True,drop=True)\n",
    "\n",
    "    #DataFrame_空白列削除 x,y更新\n",
    "    #EL：yにおいて、ある列すべての要素(疑似距離残差)がNanの場合、その列と、xにおいて対応する列を削除\n",
    "    if len(x.columns)==len(y.columns):\n",
    "      print(\"空白列の削除中\")\n",
    "      for j in tqdm(range(len(y.columns)-1,-1,-1)):\n",
    "        k=0\n",
    "        for i in range(len(y)):\n",
    "          if pd.isna(y.iloc[i,j])==True:\n",
    "             k+=1\n",
    "             if k==len(y):\n",
    "                x.drop(columns=x.columns[j],inplace=True)\n",
    "                y.drop(columns=y.columns[j],inplace=True)\n",
    "          \n",
    "    #DOP,NSAT：yにおいて、エポックごとの各衛星の疑似距離残差の平均を取る(Nanはスキップ)\n",
    "    else:\n",
    "      print(\"疑似距離残差の平均値を計算中\")\n",
    "      for i in tqdm(range(len(y))):\n",
    "        y_ave[i,0]=y.iloc[i].abs().sum(skipna=True)\n",
    "        y_ave[i,0]=y_ave[i,0]/(y.count(axis=1).iloc[i])\n",
    "    \n",
    "    return (x,y,y_ave)"
   ]
  },
  {
   "cell_type": "code",
   "execution_count": 4,
   "metadata": {},
   "outputs": [],
   "source": [
    "\"\"\"\n",
    "データ準備_X:特徴量\n",
    "データ準備_Y:疑似距離残差\n",
    "\"\"\"\n",
    "\n",
    "def array_data(x,y,y_ave):\n",
    "    #X_EL:要素が0以下、またはNanの場合Nanを返し、それ以外は四捨五入して整数に丸める\n",
    "    if len(x.columns)==len(y.columns):\n",
    "      print(\"Xデータの成型中_EL\")\n",
    "      for i in tqdm(range(len(x))):\n",
    "        for j in range(len(x.columns)):\n",
    "          if x.iloc[i,j]<0 or pd.isna(x.iloc[i,j])==True:\n",
    "             x.iloc[i,j]=None\n",
    "          else:\n",
    "             x.iloc[i,j]=Decimal(str(x.iloc[i,j])).quantize(Decimal(\"0\"),rounding=ROUND_HALF_UP)\n",
    "\n",
    "    #X_DOP：要素がNanの場合はNanを返し、それ以外は四捨五入して少数第2位までに丸める\n",
    "    elif len(x.columns)==5:\n",
    "      print(\"Xデータの成型中_DOP\")\n",
    "      for i in tqdm(range(len(x))):\n",
    "        for j in range(len(x.columns)):\n",
    "          if pd.isna(x.iloc[i,j])==True:\n",
    "             x.iloc[i,j]=None\n",
    "          else:\n",
    "             x.iloc[i,j]=Decimal(str(x.iloc[i,j])).quantize(Decimal(\"0.01\"),rounding=ROUND_HALF_UP)\n",
    "\n",
    "    #X_NSAT:要素がNanの場合はNanを返し、それ以外はそのままの値を返す\n",
    "    else:\n",
    "      print(\"Xデータの成型中_NSAT\")\n",
    "      for i in tqdm(range(len(x))):\n",
    "        for j in range(len(x.columns)):\n",
    "          if pd.isna(x.iloc[i,j])==True:\n",
    "             x.iloc[i,j]=None\n",
    "          else:\n",
    "             x.iloc[i,j]=x.iloc[i,j]\n",
    "\n",
    "    #Y_EL：要素がNanの場合はNanを返し、それ以外は絶対値を返す\n",
    "    if len(x.columns)==len(y.columns):\n",
    "       print(\"Yデータの成型中_EL\")\n",
    "       for i in tqdm(range(len(y))):\n",
    "         for j in range(len(y.columns)):\n",
    "           if y.iloc[i,j]<0:\n",
    "              y.iloc[i,j]=(-1)*y.iloc[i,j]\n",
    "           elif pd.isna(y.iloc[i,j])==True:\n",
    "              y.iloc[i,j]=None\n",
    "           else:\n",
    "              y.iloc[i,j]=y.iloc[i,j]\n",
    "\n",
    "    #Y_DOP or NSAT：疑似距離残差の平均を返す\n",
    "    else:\n",
    "      print(\"Yデータの成型中_DOP or NSAT\")\n",
    "      for i in tqdm(range(len(y))):\n",
    "          y.iloc[i,0]=y_ave[i,0]\n",
    "      y.drop(columns=y.columns[[range(1,len(y.columns),1)]],inplace=True)\n",
    "      y.columns=[\"range_residual_ave\"]\n",
    "    \n",
    "    #結果出力用のDataFrame\n",
    "    df3=pd.concat([x,y],axis=1)\n",
    "\n",
    "    return (x,y,df3)"
   ]
  },
  {
   "cell_type": "code",
   "execution_count": 5,
   "metadata": {
    "scrolled": true
   },
   "outputs": [],
   "source": [
    "#ファイル読み込み\n",
    "df1=pd.read_csv(\"Ninja_gps_only.csv\")\n",
    "#df1.head()"
   ]
  },
  {
   "cell_type": "code",
   "execution_count": 6,
   "metadata": {
    "scrolled": true
   },
   "outputs": [],
   "source": [
    "#必要な諸量のデータ成型 df2\n",
    "#x=EL:list(range(87,243,5))\n",
    "#x=DOP:list(range(7,12))\n",
    "#y=NSAT:16:17\n",
    "#y=疑似距離残差：list(range(18,81,2))\n",
    "#変更する箇所(特徴量の選択)\n",
    "x=df1.iloc[:,list(range(87,243,5))].copy()\n",
    "y=df1.iloc[:,list(range(18,81,2))].copy()\n",
    "chain=itertools.chain(x,y)\n",
    "df2=df1.loc[:,list(chain)]\n",
    "#df2.head()"
   ]
  },
  {
   "cell_type": "code",
   "execution_count": 7,
   "metadata": {},
   "outputs": [
    {
     "name": "stderr",
     "output_type": "stream",
     "text": [
      "  1%|▊                                                                              | 55/5231 [00:00<00:09, 547.91it/s]"
     ]
    },
    {
     "name": "stdout",
     "output_type": "stream",
     "text": [
      "空白行の削除中\n"
     ]
    },
    {
     "name": "stderr",
     "output_type": "stream",
     "text": [
      "100%|█████████████████████████████████████████████████████████████████████████████| 5231/5231 [00:07<00:00, 699.75it/s]\n",
      "  6%|█████▏                                                                             | 2/32 [00:00<00:02, 11.24it/s]"
     ]
    },
    {
     "name": "stdout",
     "output_type": "stream",
     "text": [
      "空白列の削除中\n"
     ]
    },
    {
     "name": "stderr",
     "output_type": "stream",
     "text": [
      "100%|██████████████████████████████████████████████████████████████████████████████████| 32/32 [00:03<00:00, 10.31it/s]\n",
      "  1%|▍                                                                              | 29/4734 [00:00<00:16, 284.29it/s]"
     ]
    },
    {
     "name": "stdout",
     "output_type": "stream",
     "text": [
      "Xデータの成型中_EL\n"
     ]
    },
    {
     "name": "stderr",
     "output_type": "stream",
     "text": [
      "100%|█████████████████████████████████████████████████████████████████████████████| 4734/4734 [00:11<00:00, 419.57it/s]\n",
      "  1%|█                                                                              | 65/4734 [00:00<00:07, 606.42it/s]"
     ]
    },
    {
     "name": "stdout",
     "output_type": "stream",
     "text": [
      "Yデータの成型中_EL\n"
     ]
    },
    {
     "name": "stderr",
     "output_type": "stream",
     "text": [
      "100%|█████████████████████████████████████████████████████████████████████████████| 4734/4734 [00:07<00:00, 655.31it/s]\n"
     ]
    }
   ],
   "source": [
    "#DataFrameの成型\n",
    "x,y,y_ave=DataFrame(df2,x,y)\n",
    "#データの準備\n",
    "x,y,df3=array_data(x,y,y_ave)\n",
    "#df3.head()"
   ]
  },
  {
   "cell_type": "code",
   "execution_count": 54,
   "metadata": {
    "scrolled": false
   },
   "outputs": [
    {
     "name": "stdout",
     "output_type": "stream",
     "text": [
      "RMS算出中_EL\n"
     ]
    },
    {
     "ename": "KeyboardInterrupt",
     "evalue": "Interrupted by user",
     "output_type": "error",
     "traceback": [
      "\u001b[1;31m---------------------------------------------------------------------------\u001b[0m",
      "\u001b[1;31mKeyboardInterrupt\u001b[0m                         Traceback (most recent call last)",
      "\u001b[1;32m<ipython-input-54-bc516905dad4>\u001b[0m in \u001b[0;36m<module>\u001b[1;34m\u001b[0m\n\u001b[0;32m      1\u001b[0m \u001b[0mntfy\u001b[0m\u001b[1;33m.\u001b[0m\u001b[0mline_ntfy\u001b[0m\u001b[1;33m(\u001b[0m\u001b[1;34m\"入力してください\"\u001b[0m\u001b[1;33m)\u001b[0m\u001b[1;33m\u001b[0m\u001b[1;33m\u001b[0m\u001b[0m\n\u001b[0;32m      2\u001b[0m \u001b[1;31m#RMS算出\u001b[0m\u001b[1;33m\u001b[0m\u001b[1;33m\u001b[0m\u001b[1;33m\u001b[0m\u001b[0m\n\u001b[1;32m----> 3\u001b[1;33m \u001b[0mrms\u001b[0m\u001b[1;33m,\u001b[0m\u001b[0mdf3_5\u001b[0m\u001b[1;33m,\u001b[0m\u001b[0mdf4\u001b[0m\u001b[1;33m,\u001b[0m\u001b[0mparam_max\u001b[0m\u001b[1;33m,\u001b[0m\u001b[0mstep\u001b[0m\u001b[1;33m,\u001b[0m\u001b[0mresidual_max\u001b[0m\u001b[1;33m,\u001b[0m\u001b[0mX\u001b[0m\u001b[1;33m,\u001b[0m\u001b[0mfig1\u001b[0m\u001b[1;33m=\u001b[0m\u001b[0mRMS_GPS_only\u001b[0m\u001b[1;33m.\u001b[0m\u001b[0mRMS\u001b[0m\u001b[1;33m(\u001b[0m\u001b[0mx\u001b[0m\u001b[1;33m,\u001b[0m\u001b[0my\u001b[0m\u001b[1;33m)\u001b[0m\u001b[1;33m\u001b[0m\u001b[1;33m\u001b[0m\u001b[0m\n\u001b[0m",
      "\u001b[1;32m~\\Documents\\Python\\csv2tendline\\RMS_GPS_only.py\u001b[0m in \u001b[0;36mRMS\u001b[1;34m(x, y)\u001b[0m\n\u001b[0;32m     67\u001b[0m       \u001b[0mprint\u001b[0m\u001b[1;33m(\u001b[0m\u001b[1;34m\"RMS算出中_EL\"\u001b[0m\u001b[1;33m)\u001b[0m\u001b[1;33m\u001b[0m\u001b[1;33m\u001b[0m\u001b[0m\n\u001b[0;32m     68\u001b[0m \u001b[1;33m\u001b[0m\u001b[0m\n\u001b[1;32m---> 69\u001b[1;33m       \u001b[0mstep\u001b[0m\u001b[1;33m=\u001b[0m\u001b[0mint\u001b[0m\u001b[1;33m(\u001b[0m\u001b[0minput\u001b[0m\u001b[1;33m(\u001b[0m\u001b[1;34m\"stepを入力してください(ex/step=5,param_maxは91で固定)\"\u001b[0m\u001b[1;33m)\u001b[0m\u001b[1;33m)\u001b[0m\u001b[1;33m\u001b[0m\u001b[1;33m\u001b[0m\u001b[0m\n\u001b[0m\u001b[0;32m     70\u001b[0m \u001b[1;33m\u001b[0m\u001b[0m\n\u001b[0;32m     71\u001b[0m       \u001b[0mresidual_max\u001b[0m\u001b[1;33m=\u001b[0m\u001b[0mint\u001b[0m\u001b[1;33m(\u001b[0m\u001b[0minput\u001b[0m\u001b[1;33m(\u001b[0m\u001b[1;34m\"residual_maxを設定しますか？(No=0,Yes=設定したいresidual_maxの値)\"\u001b[0m\u001b[1;33m)\u001b[0m\u001b[1;33m)\u001b[0m\u001b[1;33m\u001b[0m\u001b[1;33m\u001b[0m\u001b[0m\n",
      "\u001b[1;32m~\\anaconda3\\lib\\site-packages\\ipykernel\\kernelbase.py\u001b[0m in \u001b[0;36mraw_input\u001b[1;34m(self, prompt)\u001b[0m\n\u001b[0;32m    858\u001b[0m                 \u001b[1;34m\"raw_input was called, but this frontend does not support input requests.\"\u001b[0m\u001b[1;33m\u001b[0m\u001b[1;33m\u001b[0m\u001b[0m\n\u001b[0;32m    859\u001b[0m             )\n\u001b[1;32m--> 860\u001b[1;33m         return self._input_request(str(prompt),\n\u001b[0m\u001b[0;32m    861\u001b[0m             \u001b[0mself\u001b[0m\u001b[1;33m.\u001b[0m\u001b[0m_parent_ident\u001b[0m\u001b[1;33m,\u001b[0m\u001b[1;33m\u001b[0m\u001b[1;33m\u001b[0m\u001b[0m\n\u001b[0;32m    862\u001b[0m             \u001b[0mself\u001b[0m\u001b[1;33m.\u001b[0m\u001b[0m_parent_header\u001b[0m\u001b[1;33m,\u001b[0m\u001b[1;33m\u001b[0m\u001b[1;33m\u001b[0m\u001b[0m\n",
      "\u001b[1;32m~\\anaconda3\\lib\\site-packages\\ipykernel\\kernelbase.py\u001b[0m in \u001b[0;36m_input_request\u001b[1;34m(self, prompt, ident, parent, password)\u001b[0m\n\u001b[0;32m    902\u001b[0m             \u001b[1;32mexcept\u001b[0m \u001b[0mKeyboardInterrupt\u001b[0m\u001b[1;33m:\u001b[0m\u001b[1;33m\u001b[0m\u001b[1;33m\u001b[0m\u001b[0m\n\u001b[0;32m    903\u001b[0m                 \u001b[1;31m# re-raise KeyboardInterrupt, to truncate traceback\u001b[0m\u001b[1;33m\u001b[0m\u001b[1;33m\u001b[0m\u001b[1;33m\u001b[0m\u001b[0m\n\u001b[1;32m--> 904\u001b[1;33m                 \u001b[1;32mraise\u001b[0m \u001b[0mKeyboardInterrupt\u001b[0m\u001b[1;33m(\u001b[0m\u001b[1;34m\"Interrupted by user\"\u001b[0m\u001b[1;33m)\u001b[0m \u001b[1;32mfrom\u001b[0m \u001b[1;32mNone\u001b[0m\u001b[1;33m\u001b[0m\u001b[1;33m\u001b[0m\u001b[0m\n\u001b[0m\u001b[0;32m    905\u001b[0m             \u001b[1;32mexcept\u001b[0m \u001b[0mException\u001b[0m \u001b[1;32mas\u001b[0m \u001b[0me\u001b[0m\u001b[1;33m:\u001b[0m\u001b[1;33m\u001b[0m\u001b[1;33m\u001b[0m\u001b[0m\n\u001b[0;32m    906\u001b[0m                 \u001b[0mself\u001b[0m\u001b[1;33m.\u001b[0m\u001b[0mlog\u001b[0m\u001b[1;33m.\u001b[0m\u001b[0mwarning\u001b[0m\u001b[1;33m(\u001b[0m\u001b[1;34m\"Invalid Message:\"\u001b[0m\u001b[1;33m,\u001b[0m \u001b[0mexc_info\u001b[0m\u001b[1;33m=\u001b[0m\u001b[1;32mTrue\u001b[0m\u001b[1;33m)\u001b[0m\u001b[1;33m\u001b[0m\u001b[1;33m\u001b[0m\u001b[0m\n",
      "\u001b[1;31mKeyboardInterrupt\u001b[0m: Interrupted by user"
     ]
    }
   ],
   "source": [
    "#RMS算出\n",
    "rms,df3_5,df4,param_max,step,residual_max,X,fig1=RMS_GPS_only.RMS(x,y)"
   ]
  },
  {
   "cell_type": "code",
   "execution_count": null,
   "metadata": {
    "scrolled": true
   },
   "outputs": [],
   "source": [
    "#近似曲線を算出\n",
    "if df4.size==0:\n",
    "   print(\"Error!：param_maxの値が小さすぎます\")\n",
    "if df3_5.size==0:\n",
    "   print(\"Error!：param_maxの値が小さすぎます\")\n",
    "\n",
    "else:\n",
    "   data_x_5,\\\n",
    "   data_y_5,data_y_5_1,data_y_5_2,data_y_5_3,data_y_5_4,data_y_5_5,data_y_5_6,data_y_5_7,data_y_5_8,data_y_5_9,data_y_5_10,\\\n",
    "   popt_5_1,popt_5_2,popt_5_3,popt_5_4,popt_5_5,popt_5_6,popt_5_7,popt_5_8,popt_5_9,popt_5_10\\\n",
    "   =tendline.tendline_all(df3_5)\n",
    "        \n",
    "   data_x,\\\n",
    "   data_y,data_y1,data_y2,data_y3,data_y4,data_y5,data_y6,data_y7,data_y8,data_y9,data_y10,\\\n",
    "   popt1,popt2,popt3,popt4,popt5,popt6,popt7,popt8,popt9,popt10\\\n",
    "   =tendline.tendline_all(df4)\n",
    "\n",
    "#結果出力用のDataFrame\n",
    "df5_5=pd.DataFrame\\\n",
    "([[\"𝑦=𝑎𝑒^𝑥\",popt_5_1],[\"𝑦=𝑎^𝑥\",popt_5_2],[\"𝑦=𝑒^(𝑎𝑥)\",popt_5_3],[\"𝑦=𝑎^(1/𝑥)\",popt_5_4],[\"𝑦=(1/𝑥)^𝑎\",popt_5_5],[\"𝑦=𝑎/𝑥\",popt_5_6],[\"𝑦=𝑎+𝑏𝑙𝑜𝑔(𝑥)\",popt_5_7],[\"𝑦=𝑎^(1/𝑥)+𝑏/𝑥\",popt_5_8],[\"𝑦=𝑎/𝑠𝑖𝑛(𝑥)\",popt_5_9],[\"𝑦=𝑎/𝑒^(𝑏𝑥)𝑠𝑖𝑛(𝑥)\",popt_5_10]])\n",
    "\n",
    "df5_5.columns=[\"近似曲線\",\"パラメータ\"]\n",
    "\n",
    "df5=pd.DataFrame\\\n",
    "([[\"𝑦=𝑎𝑒^𝑥\",popt1],[\"𝑦=𝑎^𝑥\",popt2],[\"𝑦=𝑒^(𝑎𝑥)\",popt3],[\"𝑦=𝑎^(1/𝑥)\",popt4],[\"𝑦=(1/𝑥)^𝑎\",popt5],[\"𝑦=𝑎/𝑥\",popt6],[\"𝑦=𝑎+𝑏𝑙𝑜𝑔(𝑥)\",popt7],[\"𝑦=𝑎^(1/𝑥)+𝑏/𝑥\",popt8],[\"𝑦=𝑎/𝑠𝑖𝑛(𝑥)\",popt9],[\"𝑦=𝑎/𝑒^(𝑏𝑥)𝑠𝑖𝑛(𝑥)\",popt10]])\n",
    "\n",
    "df5.columns=[\"近似曲線\",\"パラメータ\"]"
   ]
  },
  {
   "cell_type": "code",
   "execution_count": null,
   "metadata": {},
   "outputs": [],
   "source": [
    "#近似曲線のグラフとデータを保存するディレクトリを指定\n",
    "path=os.getcwd()\n",
    "if X==\"NSAT\" or X==\"EL\":\n",
    "  dir=\"近似曲線/GPS_only/{}\".format(X)\n",
    "\n",
    "  new_path=path+\"/{}/residual_max\".format(dir)\n",
    "  os.makedirs(new_path,exist_ok=True)\n",
    "\n",
    "else:\n",
    "  dir=\"近似曲線/GPS_only/DOP/{}\".format(X)\n",
    "  \n",
    "  new_path=path+\"/{}/residual_max\".format(dir)\n",
    "  os.makedirs(new_path,exist_ok=True)\n",
    "\n",
    "#結果を出力\n",
    "if residual_max==0:\n",
    "  with pd.ExcelWriter(r\"{}/データ_{}_param_max={}_step={}.xlsx\".format(dir,X,param_max,step,residual_max)) as writer:\n",
    "    df2.to_excel(writer,index=False,sheet_name=\"生データ(x,y)\")\n",
    "    df3.to_excel(writer,index=False,sheet_name=\"成型後データ_alpha\")\n",
    "    df3_5.to_excel(writer,index=False,sheet_name=\"成型後データ_beta\")\n",
    "    df4.to_excel(writer,index=False,sheet_name=\"近似曲線のデータ_RMS\")\n",
    "    df5_5.to_excel(writer,index=False,sheet_name=\"近似曲線のパラメータ_測距誤差モデル\")\n",
    "    df5.to_excel(writer,index=False,sheet_name=\"近似曲線のパラメータ_RMS\")\n",
    "else:\n",
    "  with pd.ExcelWriter(r\"{}/データ_{}_param_max={}_step={}_residual_max={}.xlsx\".format(new_path,X,param_max,step,residual_max)) as writer:\n",
    "    df2.to_excel(writer,index=False,sheet_name=\"生データ(x,y)\")\n",
    "    df3.to_excel(writer,index=False,sheet_name=\"成型後データ_alpha\")\n",
    "    df3_5.to_excel(writer,index=False,sheet_name=\"成型後データ_beta\")\n",
    "    df4.to_excel(writer,index=False,sheet_name=\"近似曲線のデータ_RMS\")\n",
    "    df5_5.to_excel(writer,index=False,sheet_name=\"近似曲線のパラメータ_測距誤差モデル\")\n",
    "    df5.to_excel(writer,index=False,sheet_name=\"近似曲線のパラメータ_RMS\")"
   ]
  },
  {
   "cell_type": "code",
   "execution_count": null,
   "metadata": {},
   "outputs": [],
   "source": [
    "fig2=plt.figure()\n",
    "\n",
    "#グラフ描画\n",
    "plt.title(\"range error model\")\n",
    "plt.xlabel(\"{}\".format(X))\n",
    "plt.ylabel(\"pseudo-range residual RMS\")\n",
    "plt.grid(True)\n",
    "plt.scatter(df3_5.iloc[:,0],df3_5.iloc[:,1])\n",
    "\n",
    "if X==\"EL\":\n",
    "  #線形\n",
    "  plt.plot(data_x_5,data_y_5,label=\"LS\")\n",
    "  #plt.plot(data_x_5,data_y1,label=r\"$y=ae^x$\")\n",
    "  plt.plot(data_x_5,data_y_5_6,label=r\"$y=\\frac{a}{x}$\")\n",
    "  plt.plot(data_x_5,data_y_5_7,label=r\"$y=a+blog(x)$\")\n",
    "  plt.plot(data_x_5,data_y_5_9,label=r\"$y=\\frac{a}{sin(x)}$\")\n",
    "  #非線形\n",
    "  #plt.plot(data_x_5,data_y_5_2,label=r\"$y=a^x$\")\n",
    "  #plt.plot(data_x_5,data_y_5_3,label=r\"$y=e^{ax}$\")\n",
    "  #plt.plot(data_x_5,data_y_5_4,label=r\"$y=a^{\\frac{1}{x}}$\")\n",
    "  #plt.plot(data_x_5,data_y_5_5,label=r\"$y=(\\frac{1}{x})^a$\")\n",
    "  plt.plot(data_x_5,data_y_5_10,label=r\"$y=\\frac{a}{e^{bx}sin(x)}$\")\n",
    "  plt.plot(data_x_5,data_y_5_8,label=r\"$y=a^{\\frac{1}{x}}+\\frac{b}{x}$\")\n",
    "elif X==\"NSAT\":\n",
    "  #線形\n",
    "  plt.plot(data_x_5,data_y_5,label=\"LS\")\n",
    "  plt.plot(data_x_5,data_y_5_1,label=r\"$y=ae^x$\")\n",
    "  plt.plot(data_x_5,data_y_5_6,label=r\"$y=\\frac{a}{x}$\")\n",
    "  plt.plot(data_x_5,data_y_5_7,label=r\"$y=a+blog(x)$\")\n",
    "  plt.plot(data_x_5,data_y_5_9,label=r\"$y=\\frac{a}{sin(x)}$\")\n",
    "  #非線形\n",
    "  plt.plot(data_x_5,data_y_5_2,label=r\"$y=a^x$\")\n",
    "  plt.plot(data_x_5,data_y_5_3,label=r\"$y=e^{ax}$\")\n",
    "  plt.plot(data_x_5,data_y_5_4,label=r\"$y=a^{\\frac{1}{x}}$\")\n",
    "  plt.plot(data_x_5,data_y_5_5,label=r\"$y=(\\frac{1}{x})^a$\")\n",
    "  plt.plot(data_x_5,data_y_5_10,label=r\"$y=\\frac{a}{e^{bx}sin(x)}$\")\n",
    "  plt.plot(data_x_5,data_y_5_8,label=r\"$y=a^{\\frac{1}{x}}+\\frac{b}{x}$\")\n",
    "else:\n",
    "  #線形\n",
    "  plt.plot(data_x_5,data_y_5,label=\"LS\")\n",
    "  #plt.plot(data_x_5,data_y_5_1,label=r\"$y=ae^x$\")\n",
    "  #plt.plot(data_x_5,data_y_5_6,label=r\"$y=\\frac{a}{x}$\")\n",
    "  plt.plot(data_x_5,data_y_5_7,label=r\"$y=a+blog(x)$\")\n",
    "  #plt.plot(data_x_5,data_y_5_9,label=r\"$y=\\frac{a}{sin(x)}$\")\n",
    "  #非線形\n",
    "  plt.plot(data_x_5,data_y_5_2,label=r\"$y=a^x$\")\n",
    "  plt.plot(data_x_5,data_y_5_3,label=r\"$y=e^{ax}$\")\n",
    "  #plt.plot(data_x_5,data_y_5_4,label=r\"$y=a^{\\frac{1}{x}}$\")\n",
    "  #plt.plot(data_x_5,data_y_5_5,label=r\"$y=(\\frac{1}{x})^a$\")\n",
    "  plt.plot(data_x_5,data_y_5_10,label=r\"$y=\\frac{a}{e^{bx}sin(x)}$\")\n",
    "  #plt.plot(data_x_5,data_y_5_8,label=r\"$y=a^{\\frac{1}{x}}+\\frac{b}{x}$\")\n",
    "\n",
    "plt.legend(loc=\"upper left\",bbox_to_anchor=(1,1.04),fontsize=14)"
   ]
  },
  {
   "cell_type": "code",
   "execution_count": null,
   "metadata": {},
   "outputs": [],
   "source": [
    "fig3=plt.figure()\n",
    "\n",
    "#グラフ描画\n",
    "plt.title(\"range error model\")\n",
    "plt.xlabel(\"{}\".format(X))\n",
    "plt.ylabel(\"pseudo-range residual RMS\")\n",
    "plt.grid(True)\n",
    "plt.scatter(df4.iloc[:,0],df4.iloc[:,1])\n",
    "\n",
    "if X==\"EL\":\n",
    "  #線形\n",
    "  plt.plot(data_x,data_y,label=\"LS\")\n",
    "  #plt.plot(data_x,data_y1,label=r\"$y=ae^x$\")\n",
    "  plt.plot(data_x,data_y6,label=r\"$y=\\frac{a}{x}$\")\n",
    "  plt.plot(data_x,data_y7,label=r\"$y=a+blog(x)$\")\n",
    "  plt.plot(data_x,data_y9,label=r\"$y=\\frac{a}{sin(x)}$\")\n",
    "  #非線形\n",
    "  #plt.plot(data_x,data_y2,label=r\"$y=a^x$\")\n",
    "  #plt.plot(data_x,data_y3,label=r\"$y=e^{ax}$\")\n",
    "  #plt.plot(data_x,data_y4,label=r\"$y=a^{\\frac{1}{x}}$\")\n",
    "  #plt.plot(data_x,data_y5,label=r\"$y=(\\frac{1}{x})^a$\")\n",
    "  plt.plot(data_x,data_y10,label=r\"$y=\\frac{a}{e^{bx}sin(x)}$\")\n",
    "  plt.plot(data_x,data_y8,label=r\"$y=a^{\\frac{1}{x}}+\\frac{b}{x}$\")\n",
    "elif X==\"NSAT\":\n",
    "  #線形\n",
    "  plt.plot(data_x,data_y,label=\"LS\")\n",
    "  plt.plot(data_x,data_y1,label=r\"$y=ae^x$\")\n",
    "  plt.plot(data_x,data_y6,label=r\"$y=\\frac{a}{x}$\")\n",
    "  plt.plot(data_x,data_y7,label=r\"$y=a+blog(x)$\")\n",
    "  plt.plot(data_x,data_y9,label=r\"$y=\\frac{a}{sin(x)}$\")\n",
    "  #非線形\n",
    "  plt.plot(data_x,data_y2,label=r\"$y=a^x$\")\n",
    "  plt.plot(data_x,data_y3,label=r\"$y=e^{ax}$\")\n",
    "  plt.plot(data_x,data_y4,label=r\"$y=a^{\\frac{1}{x}}$\")\n",
    "  plt.plot(data_x,data_y5,label=r\"$y=(\\frac{1}{x})^a$\")\n",
    "  plt.plot(data_x,data_y10,label=r\"$y=\\frac{a}{e^{bx}sin(x)}$\")\n",
    "  plt.plot(data_x,data_y8,label=r\"$y=a^{\\frac{1}{x}}+\\frac{b}{x}$\")\n",
    "else:\n",
    "  #線形\n",
    "  plt.plot(data_x,data_y,label=\"LS\")\n",
    "  #plt.plot(data_x,data_y1,label=r\"$y=ae^x$\")\n",
    "  #plt.plot(data_x,data_y6,label=r\"$y=\\frac{a}{x}$\")\n",
    "  plt.plot(data_x,data_y7,label=r\"$y=a+blog(x)$\")\n",
    "  #plt.plot(data_x,data_y9,label=r\"$y=\\frac{a}{sin(x)}$\")\n",
    "  #非線形\n",
    "  plt.plot(data_x,data_y2,label=r\"$y=a^x$\")\n",
    "  plt.plot(data_x,data_y3,label=r\"$y=e^{ax}$\")\n",
    "  #plt.plot(data_x,data_y4,label=r\"$y=a^{\\frac{1}{x}}$\")\n",
    "  #plt.plot(data_x,data_y5,label=r\"$y=(\\frac{1}{x})^a$\")\n",
    "  plt.plot(data_x,data_y10,label=r\"$y=\\frac{a}{e^{bx}sin(x)}$\")\n",
    "  #plt.plot(data_x,data_y8,label=r\"$y=a^{\\frac{1}{x}}+\\frac{b}{x}$\")\n",
    "\n",
    "plt.legend(loc=\"upper left\",bbox_to_anchor=(1,1.04),fontsize=14)"
   ]
  },
  {
   "cell_type": "code",
   "execution_count": null,
   "metadata": {},
   "outputs": [],
   "source": [
    "#グラフを画像データとして保存\n",
    "if residual_max==0:\n",
    "  fig1.savefig(r\"{}/測距誤差モデル.png\".format(dir),bbox_inches='tight')\n",
    "  fig2.savefig(r\"{}/近似曲線_測距誤差モデル.png\".format(dir),bbox_inches='tight')\n",
    "  fig3.savefig(r\"{}/近似曲線_RMS_{}_param_max={}_step={}.png\".format(dir,X,param_max,step,residual_max),bbox_inches='tight')\n",
    "  print(\"{}に保存しました\".format(dir))\n",
    "else:\n",
    "  fig1.savefig(r\"{}/測距誤差モデル.png\".format(new_path),bbox_inches='tight')\n",
    "  fig2.savefig(r\"{}/近似曲線_測距誤差モデル.png\".format(new_path),bbox_inches='tight')\n",
    "  fig3.savefig(r\"{}/近似曲線_RMS_{}_param_max={}_step={}_residual_max={}.png\".format(new_path,X,param_max,step,residual_max),bbox_inches='tight')\n",
    "  print(\"{}/residual_maxに保存しました\".format(dir))\n",
    "    \n",
    "ntfy.line_ntfy(\"正常終了しました！\")"
   ]
  },
  {
   "cell_type": "code",
   "execution_count": null,
   "metadata": {},
   "outputs": [],
   "source": []
  }
 ],
 "metadata": {
  "kernelspec": {
   "display_name": "Python 3",
   "language": "python",
   "name": "python3"
  },
  "language_info": {
   "codemirror_mode": {
    "name": "ipython",
    "version": 3
   },
   "file_extension": ".py",
   "mimetype": "text/x-python",
   "name": "python",
   "nbconvert_exporter": "python",
   "pygments_lexer": "ipython3",
   "version": "3.8.5"
  }
 },
 "nbformat": 4,
 "nbformat_minor": 4
}
