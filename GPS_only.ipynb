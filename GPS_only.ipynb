{
 "cells": [
  {
   "cell_type": "markdown",
   "metadata": {},
   "source": [
    "# GPS単体の測位結果を用いて近似曲線を引くプログラム"
   ]
  },
  {
   "cell_type": "code",
   "execution_count": 1,
   "metadata": {},
   "outputs": [],
   "source": [
    "import pandas as pd\n",
    "import numpy as np\n",
    "import matplotlib.pyplot as plt\n",
    "from IPython.display import display\n",
    "from IPython.display import Math\n",
    "import openpyxl\n",
    "import itertools\n",
    "from decimal import Decimal,ROUND_HALF_UP\n",
    "from sklearn.metrics import r2_score\n",
    "from scipy.optimize import curve_fit\n",
    "from tqdm import tqdm\n",
    "import tendline\n",
    "import os"
   ]
  },
  {
   "cell_type": "code",
   "execution_count": 2,
   "metadata": {},
   "outputs": [],
   "source": [
    "\"\"\"DataFrameの成型\"\"\"\n",
    "\n",
    "def DataFrame(df,x,y):\n",
    "    y_ave=np.zeros((len(y),1))\n",
    "    \n",
    "    #DataFrame_空白行削除 x,y更新\n",
    "    print(\"空白行の削除中\")\n",
    "    for i in tqdm(range(len(df)-1,-1,-1)):\n",
    "      k=1\n",
    "      for j in range(len(df.columns)):\n",
    "        if pd.isna(df.iloc[i,j])==True:\n",
    "            k+=1\n",
    "            if k==len(df.columns):\n",
    "               x.drop(index=i,inplace=True)\n",
    "               y.drop(index=i,inplace=True)\n",
    "\n",
    "    x.reset_index(inplace=True,drop=True)\n",
    "    y.reset_index(inplace=True,drop=True)\n",
    "\n",
    "    #DataFrame_空白列削除 x,y更新\n",
    "    #EL：yにおいて、ある列すべての要素(疑似距離残差)がNanの場合、その列と、xにおいて対応する列を削除\n",
    "    if len(x.columns)==len(y.columns):\n",
    "      print(\"空白列の削除中\")\n",
    "      for j in tqdm(range(len(y.columns)-1,-1,-1)):\n",
    "        k=1\n",
    "        for i in range(len(y)):\n",
    "          if pd.isna(y.iloc[i,j])==True:\n",
    "             k+=1\n",
    "             if k==len(y):\n",
    "                x.drop(columns=x.columns[j],inplace=True)\n",
    "                y.drop(columns=y.columns[j],inplace=True)\n",
    "\n",
    "    #DOP,NSAT：yにおいて、エポックごとの各衛星の疑似距離残差の平均を取る(Nanはスキップ)\n",
    "    else:\n",
    "      print(\"疑似距離残差の平均値を計算中\")\n",
    "      for i in tqdm(range(len(y))):\n",
    "        y_ave[i,0]=y.iloc[i].abs().sum(skipna=True)\n",
    "        y_ave[i,0]=y_ave[i,0]/(y.count(axis=1).iloc[i])\n",
    "    \n",
    "    return (x,y,y_ave)"
   ]
  },
  {
   "cell_type": "code",
   "execution_count": 3,
   "metadata": {},
   "outputs": [],
   "source": [
    "\"\"\"\n",
    "データ準備_X:特徴量\n",
    "データ準備_Y:疑似距離残差\n",
    "\"\"\"\n",
    "\n",
    "def array_data(x,y,y_ave):\n",
    "    #X_EL:要素が0以下、またはNanの場合Nanを返し、それ以外は四捨五入して整数に丸める\n",
    "    if len(x.columns)==len(y.columns):\n",
    "      print(\"Xデータの成型中_EL\")\n",
    "      for i in tqdm(range(len(x))):\n",
    "        for j in range(len(x.columns)):\n",
    "          if x.iloc[i,j]<0 or pd.isna(x.iloc[i,j])==True:\n",
    "             x.iloc[i,j]=None\n",
    "          else:\n",
    "             x.iloc[i,j]=Decimal(str(x.iloc[i,j])).quantize(Decimal(\"0\"),rounding=ROUND_HALF_UP)\n",
    "\n",
    "    #X_DOP：要素がNanの場合はNanを返し、それ以外は四捨五入して少数第2位までに丸める\n",
    "    elif len(x.columns)==5:\n",
    "      print(\"Xデータの成型中_DOP\")\n",
    "      for i in tqdm(range(len(x))):\n",
    "        for j in range(len(x.columns)):\n",
    "          if pd.isna(x.iloc[i,j])==True:\n",
    "             x.iloc[i,j]=None\n",
    "          else:\n",
    "             x.iloc[i,j]=Decimal(str(x.iloc[i,j])).quantize(Decimal(\"0.01\"),rounding=ROUND_HALF_UP)\n",
    "\n",
    "    #X_NSAT:要素がNanの場合はNanを返し、それ以外はそのままの値を返す\n",
    "    else:\n",
    "      print(\"Xデータの成型中_NSAT\")\n",
    "      for i in tqdm(range(len(x))):\n",
    "        for j in range(len(x.columns)):\n",
    "          if pd.isna(x.iloc[i,j])==True:\n",
    "             x.iloc[i,j]=None\n",
    "          else:\n",
    "             x.iloc[i,j]=x.iloc[i,j]\n",
    "\n",
    "    #Y_EL：要素がNanの場合はNanを返し、それ以外は絶対値を返す\n",
    "    if len(x.columns)==len(y.columns):\n",
    "       print(\"Yデータの成型中_EL\")\n",
    "       for i in tqdm(range(len(y))):\n",
    "         for j in range(len(y.columns)):\n",
    "           if y.iloc[i,j]<0:\n",
    "              y.iloc[i,j]=(-1)*y.iloc[i,j]\n",
    "           elif pd.isna(y.iloc[i,j])==True:\n",
    "              y.iloc[i,j]=None\n",
    "           else:\n",
    "              y.iloc[i,j]=y.iloc[i,j]\n",
    "\n",
    "    #Y_DOP or NSAT：疑似距離残差の平均を返す\n",
    "    else:\n",
    "      print(\"Yデータの成型中_DOP or NSAT\")\n",
    "      for i in tqdm(range(len(y))):\n",
    "          y.iloc[i,0]=y_ave[i,0]\n",
    "      y.drop(columns=y.columns[[range(1,len(y.columns),1)]],inplace=True)\n",
    "      y.columns=[\"range_residual_ave\"]\n",
    "    \n",
    "    #結果出力用のDataFrame\n",
    "    df3=pd.concat([x,y],axis=1)\n",
    "\n",
    "    return (x,y,df3)"
   ]
  },
  {
   "cell_type": "code",
   "execution_count": 4,
   "metadata": {},
   "outputs": [],
   "source": [
    "\"\"\"RMS算出\"\"\"\n",
    "\n",
    "def RMS(x,y):\n",
    "        \n",
    "    rms=np.zeros((len(x),1))\n",
    "    \n",
    "    #RMS_NSAT\n",
    "    if len(x.columns)==1 and len(y.columns)==1:\n",
    "      X=\"NSAT\"\n",
    "      print(\"RMS算出中_NSAT\")\n",
    "\n",
    "      param_max=int(input(\"param_maxを入力してください(ex/param_max=32,stepは1で固定)\"))\n",
    "      residual_max=int(input(\"residual_maxを設定しますか？(No=0,Yes=設定したいresidual_maxの値)\"))\n",
    "\n",
    "      step=1\n",
    "      for param in tqdm(np.arange(0,param_max,step)):\n",
    "        k=0\n",
    "        l=0\n",
    "        for i in range(len(x)):\n",
    "          if pd.isna(y.iloc[i,0])==False and x.iloc[i,0]==param: \n",
    "              k+=1\n",
    "              l+=pow(y.iloc[i,0],2)\n",
    "              rms[int(Decimal(param/step).quantize(Decimal(\"0\"),rounding=ROUND_HALF_UP)),0]=np.sqrt(l/k)\n",
    "          elif k==0:\n",
    "              rms[int(Decimal(param/step).quantize(Decimal(\"0\"),rounding=ROUND_HALF_UP)),0]=0\n",
    "\n",
    "    #RMS_DOP\n",
    "    elif len(x.columns)==5 and len(y.columns)==1:\n",
    "      print(\"RMS算出中_DOP\")\n",
    "\n",
    "      DOP=int(input(\"DOPを選択してください(G=0,P=1,H=2,V=3,T=4)\"))\n",
    "      print(\"param_maxとstepを入力してください(ex/param_max=4.5,step=0.01)\")\n",
    "      param_max,step=map(float,input().split())\n",
    "\n",
    "      DOP_type=[\"G\",\"P\",\"H\",\"V\",\"T\"]\n",
    "        \n",
    "      X=\"{}DOP\".format(DOP_type[DOP])\n",
    "\n",
    "      residual_max=int(input(\"residual_maxを設定しますか？(No=0,Yes=設定したいresidual_maxの値)\"))\n",
    "\n",
    "      for param in tqdm(np.arange(0,param_max,step)):\n",
    "        k=0\n",
    "        l=0\n",
    "        for i in range(len(x)):\n",
    "          if pd.isna(y.iloc[i,0])==False and abs(Decimal(x.iloc[i,DOP])-Decimal(str(param)))<1e-5:\n",
    "              k+=1\n",
    "              l+=pow(y.iloc[i,0],2)\n",
    "              rms[int(Decimal(param/step).quantize(Decimal(\"0\"),rounding=ROUND_HALF_UP)),0]=np.sqrt(l/k)\n",
    "          elif k==0:\n",
    "              rms[int(Decimal(param/step).quantize(Decimal(\"0\"),rounding=ROUND_HALF_UP)),0]=0\n",
    "\n",
    "    #RMS_EL\n",
    "    else:\n",
    "      X=\"EL\"\n",
    "      print(\"RMS算出中_EL\")\n",
    "\n",
    "      step=int(input(\"stepを入力してください(ex/step=5,param_maxは91で固定)\"))\n",
    "\n",
    "      residual_max=int(input(\"residual_maxを設定しますか？(No=0,Yes=設定したいresidual_maxの値)\"))\n",
    "\n",
    "      param_max=91\n",
    "      for param in tqdm(range(0,param_max,step)):\n",
    "        k=0\n",
    "        l=0\n",
    "        for i in range(len(x)):\n",
    "          for j in range(len(x.columns)):\n",
    "            if pd.isna(y.iloc[i,j])==False and x.iloc[i,j]==param:\n",
    "                k+=1\n",
    "                l+=pow(y.iloc[i,j],2)\n",
    "                rms[int(Decimal(param/step).quantize(Decimal(\"0\"),rounding=ROUND_HALF_UP)),0]=np.sqrt(l/k)\n",
    "            elif k==0:\n",
    "                rms[int(Decimal(param/step).quantize(Decimal(\"0\"),rounding=ROUND_HALF_UP)),0]=0\n",
    "    \n",
    "    #RMSが出力される最終行+1を求める\n",
    "    init=0\n",
    "    if param_max%step==0:\n",
    "      init=int(Decimal(param/step).quantize(Decimal(\"0\"),rounding=ROUND_HALF_UP))+1\n",
    "    else:\n",
    "      init=int(Decimal(np.ceil(param_max/step)).quantize(Decimal(\"0\"),rounding=ROUND_HALF_UP))\n",
    "\n",
    "    #データ整理\n",
    "    rms=np.delete(rms,range(init,len(x),1),axis=0)\n",
    "    x_pre=pd.DataFrame(np.arange(0,param_max,step))\n",
    "    y_pre=pd.DataFrame(rms)\n",
    "    \n",
    "    #結果出力用のDataFrame\n",
    "    df4=pd.concat([x_pre,y_pre],axis=1)\n",
    "    \n",
    "    #residual_maxの設定\n",
    "    for param in np.arange(0,param_max,step)[::-1]:\n",
    "      if residual_max==0:\n",
    "         if y_pre.iloc[int(Decimal(param/step).quantize(Decimal(\"0\"),rounding=ROUND_HALF_UP))][0]==0:\n",
    "            df4=df4.drop(index=int(Decimal(param/step).quantize(Decimal(\"0\"),rounding=ROUND_HALF_UP)))\n",
    "      else:\n",
    "         if y_pre.iloc[int(Decimal(param/step).quantize(Decimal(\"0\"),rounding=ROUND_HALF_UP))][0]==0 or \\\n",
    "            y_pre.iloc[int(Decimal(param/step).quantize(Decimal(\"0\"),rounding=ROUND_HALF_UP))][0]>residual_max:\n",
    "            df4=df4.drop(index=int(Decimal(param/step).quantize(Decimal(\"0\"),rounding=ROUND_HALF_UP)))\n",
    "    \n",
    "    df4.columns=[\"{}\".format(X),\"疑似距離残差RMS\"]\n",
    "    \n",
    "    #グラフ描画\n",
    "    fig1=plt.figure()\n",
    "    \n",
    "    plt.title(\"range error model\")\n",
    "    plt.xlabel(\"{}\".format(X))\n",
    "    plt.ylabel(\"pseudo-range residual\")\n",
    "    plt.grid(True)\n",
    "    \n",
    "    if len(x.columns)==len(y.columns):\n",
    "       plt.scatter(x,y)\n",
    "    else:\n",
    "       plt.scatter(x.iloc[:,DOP],y)\n",
    "    \n",
    "    return (rms,df4,param_max,step,residual_max,X,fig1)"
   ]
  },
  {
   "cell_type": "code",
   "execution_count": 5,
   "metadata": {},
   "outputs": [],
   "source": [
    "#ファイル読み込み\n",
    "df1=pd.read_csv(\"log.csv\")\n",
    "#df1.head()"
   ]
  },
  {
   "cell_type": "code",
   "execution_count": 6,
   "metadata": {
    "scrolled": true
   },
   "outputs": [],
   "source": [
    "#必要な諸量のデータ成型 df2\n",
    "#x=EL:list(range(87,243,5))\n",
    "#x=DOP:list(range(7,12))\n",
    "#y=NSAT:16:17\n",
    "#y=疑似距離残差：list(range(18,81,2))\n",
    "#変更する箇所(特徴量の選択)\n",
    "x=df1.iloc[:,list(range(7,12))].copy()\n",
    "y=df1.iloc[:,list(range(18,81,2))].copy()\n",
    "chain=itertools.chain(x,y)\n",
    "df2=df1.loc[:,list(chain)]\n",
    "#df2.head()"
   ]
  },
  {
   "cell_type": "code",
   "execution_count": 7,
   "metadata": {},
   "outputs": [
    {
     "name": "stderr",
     "output_type": "stream",
     "text": [
      "  0%|          | 24/5231 [00:00<00:21, 237.24it/s]"
     ]
    },
    {
     "name": "stdout",
     "output_type": "stream",
     "text": [
      "空白行の削除中\n"
     ]
    },
    {
     "name": "stderr",
     "output_type": "stream",
     "text": [
      "100%|██████████| 5231/5231 [00:09<00:00, 532.83it/s]\n",
      "  2%|▏         | 91/5127 [00:00<00:11, 437.53it/s]"
     ]
    },
    {
     "name": "stdout",
     "output_type": "stream",
     "text": [
      "疑似距離残差の平均値を計算中\n"
     ]
    },
    {
     "name": "stderr",
     "output_type": "stream",
     "text": [
      "100%|██████████| 5127/5127 [00:07<00:00, 642.21it/s]\n",
      "  3%|▎         | 136/5127 [00:00<00:08, 561.72it/s]"
     ]
    },
    {
     "name": "stdout",
     "output_type": "stream",
     "text": [
      "Xデータの成型中_DOP\n"
     ]
    },
    {
     "name": "stderr",
     "output_type": "stream",
     "text": [
      "100%|██████████| 5127/5127 [00:07<00:00, 704.28it/s]\n",
      "  0%|          | 0/5127 [00:00<?, ?it/s]"
     ]
    },
    {
     "name": "stdout",
     "output_type": "stream",
     "text": [
      "Yデータの成型中_DOP or NSAT\n"
     ]
    },
    {
     "name": "stderr",
     "output_type": "stream",
     "text": [
      "100%|██████████| 5127/5127 [00:00<00:00, 5773.10it/s]\n",
      "/Users/yuki/opt/anaconda3/lib/python3.8/site-packages/pandas/core/indexes/base.py:4111: FutureWarning: Using a non-tuple sequence for multidimensional indexing is deprecated; use `arr[tuple(seq)]` instead of `arr[seq]`. In the future this will be interpreted as an array index, `arr[np.array(seq)]`, which will result either in an error or a different result.\n",
      "  result = getitem(key)\n"
     ]
    }
   ],
   "source": [
    "#DataFrameの成型\n",
    "x,y,y_ave=DataFrame(df2,x,y)\n",
    "#データの準備\n",
    "x,y,df3=array_data(x,y,y_ave)\n",
    "#df3.head()"
   ]
  },
  {
   "cell_type": "code",
   "execution_count": 8,
   "metadata": {},
   "outputs": [
    {
     "name": "stdout",
     "output_type": "stream",
     "text": [
      "RMS算出中_DOP\n",
      "DOPを選択してください(G=0,P=1,H=2,V=3,T=4)0\n",
      "param_maxとstepを入力してください(ex/param_max=4.5,step=0.01)\n",
      "3.0 0.01\n",
      "residual_maxを設定しますか？(No=0,Yes=設定したいresidual_maxの値)0\n"
     ]
    },
    {
     "name": "stderr",
     "output_type": "stream",
     "text": [
      "100%|██████████| 300/300 [02:15<00:00,  2.21it/s]\n"
     ]
    },
    {
     "data": {
      "image/png": "[encoded data removed]",
      "text/plain": [
       "<Figure size 432x288 with 1 Axes>"
      ]
     },
     "metadata": {
      "needs_background": "light"
     },
     "output_type": "display_data"
    }
   ],
   "source": [
    "#RMS算出\n",
    "rms,df4,param_max,step,residual_max,X,fig1=RMS(x,y)"
   ]
  },
  {
   "cell_type": "code",
   "execution_count": 9,
   "metadata": {},
   "outputs": [
    {
     "name": "stdout",
     "output_type": "stream",
     "text": [
      "        2\n",
      "-61.36 x + 383.9 x - 590.3\n",
      "0.3199481035825651\n"
     ]
    },
    {
     "data": {
      "text/latex": [
       "$\\displaystyle y=ae^x$"
      ],
      "text/plain": [
       "<IPython.core.display.Math object>"
      ]
     },
     "metadata": {},
     "output_type": "display_data"
    },
    {
     "name": "stdout",
     "output_type": "stream",
     "text": [
      "[0.35393037]\n",
      "0.12180529493492354\n"
     ]
    },
    {
     "data": {
      "text/latex": [
       "$\\displaystyle y=a^x$"
      ],
      "text/plain": [
       "<IPython.core.display.Math object>"
      ]
     },
     "metadata": {},
     "output_type": "display_data"
    },
    {
     "name": "stdout",
     "output_type": "stream",
     "text": [
      "[1.89908105]\n",
      "0.08143943179034607\n"
     ]
    },
    {
     "data": {
      "text/latex": [
       "$\\displaystyle y=e^{ax}$"
      ],
      "text/plain": [
       "<IPython.core.display.Math object>"
      ]
     },
     "metadata": {},
     "output_type": "display_data"
    },
    {
     "name": "stdout",
     "output_type": "stream",
     "text": [
      "[0.64137008]\n",
      "0.08143943179045232\n"
     ]
    },
    {
     "data": {
      "text/latex": [
       "$\\displaystyle y=a^{\\frac{1}{x}}$"
      ],
      "text/plain": [
       "<IPython.core.display.Math object>"
      ]
     },
     "metadata": {},
     "output_type": "display_data"
    },
    {
     "name": "stdout",
     "output_type": "stream",
     "text": [
      "[192.14575661]\n",
      "-0.09169182815531873\n"
     ]
    },
    {
     "data": {
      "text/latex": [
       "$\\displaystyle y=(\\frac{1}{x})^{a}$"
      ],
      "text/plain": [
       "<IPython.core.display.Math object>"
      ]
     },
     "metadata": {},
     "output_type": "display_data"
    },
    {
     "name": "stdout",
     "output_type": "stream",
     "text": [
      "[-1.74638049]\n",
      "0.07715212396839277\n"
     ]
    },
    {
     "data": {
      "text/latex": [
       "$\\displaystyle y=\\frac{a}{x}$"
      ],
      "text/plain": [
       "<IPython.core.display.Math object>"
      ]
     },
     "metadata": {},
     "output_type": "display_data"
    },
    {
     "name": "stdout",
     "output_type": "stream",
     "text": [
      "[18.07480455]\n",
      "-0.04888994920930445\n"
     ]
    },
    {
     "data": {
      "text/latex": [
       "$\\displaystyle y=a+blog(x)$"
      ],
      "text/plain": [
       "<IPython.core.display.Math object>"
      ]
     },
     "metadata": {},
     "output_type": "display_data"
    },
    {
     "name": "stdout",
     "output_type": "stream",
     "text": [
      "[-83.23880938  84.38507017]\n",
      "0.31650570868259986\n"
     ]
    },
    {
     "data": {
      "text/latex": [
       "$\\displaystyle y=a^{\\frac{1}{x}}+\\frac{b}{x}$"
      ],
      "text/plain": [
       "<IPython.core.display.Math object>"
      ]
     },
     "metadata": {},
     "output_type": "display_data"
    },
    {
     "name": "stdout",
     "output_type": "stream",
     "text": [
      "[ 0.9999769  15.18730042]\n",
      "-0.04086822416968183\n"
     ]
    },
    {
     "data": {
      "text/latex": [
       "$\\displaystyle y=\\frac{a}{sin(x)}$"
      ],
      "text/plain": [
       "<IPython.core.display.Math object>"
      ]
     },
     "metadata": {},
     "output_type": "display_data"
    },
    {
     "name": "stdout",
     "output_type": "stream",
     "text": [
      "[0.31533298]\n",
      "-0.04884720871670534\n"
     ]
    },
    {
     "data": {
      "text/latex": [
       "$\\displaystyle y=\\frac{a}{e^{bx}sin(x)}$"
      ],
      "text/plain": [
       "<IPython.core.display.Math object>"
      ]
     },
     "metadata": {},
     "output_type": "display_data"
    },
    {
     "name": "stdout",
     "output_type": "stream",
     "text": [
      "[ 9.74054202e-04 -4.05840078e+00]\n",
      "0.3015817879396099\n"
     ]
    }
   ],
   "source": [
    "#近似曲線を算出\n",
    "if df4.size==0:\n",
    "   print(\"Error!：param_maxの値が小さすぎます\")\n",
    "\n",
    "else:\n",
    "   data_x,\\\n",
    "   data_y,data_y1,data_y2,data_y3,data_y4,data_y5,data_y6,data_y7,data_y8,data_y9,data_y10,\\\n",
    "   popt1,popt2,popt3,popt4,popt5,popt6,popt7,popt8,popt9,popt10\\\n",
    "   =tendline.tendline_all(df4)\n",
    "\n",
    "#結果出力用のDataFrame\n",
    "df5=pd.DataFrame\\\n",
    "([[\"𝑦=𝑎𝑒^𝑥\",popt1],[\"𝑦=𝑎^𝑥\",popt2],[\"𝑦=𝑒^(𝑎𝑥)\",popt3],[\"𝑦=𝑎^(1/𝑥)\",popt4],[\"𝑦=(1/𝑥)^𝑎\",popt5],[\"𝑦=𝑎/𝑥\",popt6],[\"𝑦=𝑎+𝑏𝑙𝑜𝑔(𝑥)\",popt7],[\"𝑦=𝑎^(1/𝑥)+𝑏/𝑥\",popt8],[\"𝑦=𝑎/𝑠𝑖𝑛(𝑥)\",popt9],[\"𝑦=𝑎/𝑒^(𝑏𝑥)𝑠𝑖𝑛(𝑥)\",popt10]])\n",
    "\n",
    "df5.columns=[\"近似曲線\",\"パラメータ\"]"
   ]
  },
  {
   "cell_type": "code",
   "execution_count": 10,
   "metadata": {
    "scrolled": false
   },
   "outputs": [
    {
     "name": "stdout",
     "output_type": "stream",
     "text": [
      "近似曲線/GPS_only/DOP/GDOPに保存しました\n"
     ]
    },
    {
     "data": {
      "image/png": "[encoded data removed]",
      "text/plain": [
       "<Figure size 432x288 with 1 Axes>"
      ]
     },
     "metadata": {
      "needs_background": "light"
     },
     "output_type": "display_data"
    }
   ],
   "source": [
    "#近似曲線のグラフとデータを保存するディレクトリを指定\n",
    "path=os.getcwd()\n",
    "if X==\"NSAT\" or X==\"EL\":\n",
    "  dir=\"近似曲線/GPS_only/{}\".format(X)\n",
    "\n",
    "  new_path=path+\"/{}/residual_max\".format(dir)\n",
    "  os.makedirs(new_path,exist_ok=True)\n",
    "\n",
    "else:\n",
    "  dir=\"近似曲線/GPS_only/DOP/{}\".format(X)\n",
    "  \n",
    "  new_path=path+\"/{}/residual_max\".format(dir)\n",
    "  os.makedirs(new_path,exist_ok=True)\n",
    "\n",
    "#結果を出力\n",
    "if residual_max==0:\n",
    "  with pd.ExcelWriter(r\"{}/データ_{}_param_max={}_step={}.xlsx\".format(dir,X,param_max,step,residual_max)) as writer:\n",
    "    df2.to_excel(writer,index=False,sheet_name=\"生データ(x,y)\")\n",
    "    df3.to_excel(writer,index=False,sheet_name=\"成型後データ\")\n",
    "    df4.to_excel(writer,index=False,sheet_name=\"RMS近似曲線のデータ\")\n",
    "    df5.to_excel(writer,index=False,sheet_name=\"近似曲線のパラメータ\")\n",
    "else:\n",
    "  with pd.ExcelWriter(r\"{}/データ_{}_param_max={}_step={}_residual_max={}.xlsx\".format(new_path,X,param_max,step,residual_max)) as writer:\n",
    "    df2.to_excel(writer,index=False,sheet_name=\"生データ(x,y)\")\n",
    "    df3.to_excel(writer,index=False,sheet_name=\"成型後データ\")\n",
    "    df4.to_excel(writer,index=False,sheet_name=\"RMS近似曲線のデータ\")\n",
    "    df5.to_excel(writer,index=False,sheet_name=\"近似曲線のパラメータ\")\n",
    "\n",
    "fig2=plt.figure()\n",
    "\n",
    "#グラフ描画\n",
    "plt.title(\"range error model\")\n",
    "plt.xlabel(\"{}\".format(X))\n",
    "plt.ylabel(\"pseudo-range residual RMS\")\n",
    "plt.grid(True)\n",
    "plt.scatter(df4.iloc[:,0],df4.iloc[:,1])\n",
    "\n",
    "if X==\"EL\":\n",
    "  #線形\n",
    "  #plt.plot(data_x,data_y,label=\"LS\")\n",
    "  #plt.plot(data_x,data_y1,label=r\"$y=ae^x$\")\n",
    "  plt.plot(data_x,data_y6,label=r\"$y=\\frac{a}{x}$\")\n",
    "  plt.plot(data_x,data_y7,label=r\"$y=a+blog(x)$\")\n",
    "  plt.plot(data_x,data_y9,label=r\"$y=\\frac{a}{sin(x)}$\")\n",
    "  #非線形\n",
    "  #plt.plot(data_x,data_y2,label=r\"$y=a^x$\")\n",
    "  #plt.plot(data_x,data_y3,label=r\"$y=e^{ax}$\")\n",
    "  #plt.plot(data_x,data_y4,label=r\"$y=a^{\\frac{1}{x}}$\")\n",
    "  #plt.plot(data_x,data_y5,label=r\"$y=(\\frac{1}{x})^a$\")\n",
    "  plt.plot(data_x,data_y10,label=r\"$y=\\frac{a}{e^{bx}sin(x)}$\")\n",
    "  plt.plot(data_x,data_y8,label=r\"$y=a^{\\frac{1}{x}}+\\frac{b}{x}$\")\n",
    "elif X==\"NSAT\":\n",
    "  #線形\n",
    "  plt.plot(data_x,data_y,label=\"LS\")\n",
    "  plt.plot(data_x,data_y1,label=r\"$y=ae^x$\")\n",
    "  plt.plot(data_x,data_y6,label=r\"$y=\\frac{a}{x}$\")\n",
    "  plt.plot(data_x,data_y7,label=r\"$y=a+blog(x)$\")\n",
    "  plt.plot(data_x,data_y9,label=r\"$y=\\frac{a}{sin(x)}$\")\n",
    "  #非線形\n",
    "  plt.plot(data_x,data_y2,label=r\"$y=a^x$\")\n",
    "  plt.plot(data_x,data_y3,label=r\"$y=e^{ax}$\")\n",
    "  plt.plot(data_x,data_y4,label=r\"$y=a^{\\frac{1}{x}}$\")\n",
    "  plt.plot(data_x,data_y5,label=r\"$y=(\\frac{1}{x})^a$\")\n",
    "  plt.plot(data_x,data_y10,label=r\"$y=\\frac{a}{e^{bx}sin(x)}$\")\n",
    "  plt.plot(data_x,data_y8,label=r\"$y=a^{\\frac{1}{x}}+\\frac{b}{x}$\")\n",
    "else:\n",
    "  #線形\n",
    "  plt.plot(data_x,data_y,label=\"LS\")\n",
    "  #plt.plot(data_x,data_y1,label=r\"$y=ae^x$\")\n",
    "  #plt.plot(data_x,data_y6,label=r\"$y=\\frac{a}{x}$\")\n",
    "  plt.plot(data_x,data_y7,label=r\"$y=a+blog(x)$\")\n",
    "  #plt.plot(data_x,data_y9,label=r\"$y=\\frac{a}{sin(x)}$\")\n",
    "  #非線形\n",
    "  plt.plot(data_x,data_y2,label=r\"$y=a^x$\")\n",
    "  plt.plot(data_x,data_y3,label=r\"$y=e^{ax}$\")\n",
    "  #plt.plot(data_x,data_y4,label=r\"$y=a^{\\frac{1}{x}}$\")\n",
    "  #plt.plot(data_x,data_y5,label=r\"$y=(\\frac{1}{x})^a$\")\n",
    "  plt.plot(data_x,data_y10,label=r\"$y=\\frac{a}{e^{bx}sin(x)}$\")\n",
    "  #plt.plot(data_x,data_y8,label=r\"$y=a^{\\frac{1}{x}}+\\frac{b}{x}$\")\n",
    "\n",
    "plt.legend(loc=\"upper left\",bbox_to_anchor=(1,1.04),fontsize=14)\n",
    "\n",
    "#グラフを画像データとして保存\n",
    "if residual_max==0:\n",
    "  fig1.savefig(r\"{}/測距誤差モデル.png\".format(dir),bbox_inches='tight')\n",
    "  fig2.savefig(r\"{}/近似曲線_{}_param_max={}_step={}.png\".format(dir,X,param_max,step,residual_max),bbox_inches='tight')\n",
    "  print(\"{}に保存しました\".format(dir))\n",
    "else:\n",
    "  fig1.savefig(r\"{}/測距誤差モデル.png\".format(new_path),bbox_inches='tight')\n",
    "  fig2.savefig(r\"{}/近似曲線_{}_param_max={}_step={}_residual_max={}.png\".format(new_path,X,param_max,step,residual_max),bbox_inches='tight')\n",
    "  print(\"{}/residual_maxに保存しました\".format(dir))"
   ]
  },
  {
   "cell_type": "code",
   "execution_count": null,
   "metadata": {},
   "outputs": [],
   "source": []
  }
 ],
 "metadata": {
  "kernelspec": {
   "display_name": "Python 3",
   "language": "python",
   "name": "python3"
  },
  "language_info": {
   "codemirror_mode": {
    "name": "ipython",
    "version": 3
   },
   "file_extension": ".py",
   "mimetype": "text/x-python",
   "name": "python",
   "nbconvert_exporter": "python",
   "pygments_lexer": "ipython3",
   "version": "3.8.5"
  }
 },
 "nbformat": 4,
 "nbformat_minor": 4
}
