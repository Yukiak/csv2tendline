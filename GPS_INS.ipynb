{
 "cells": [
  {
   "cell_type": "markdown",
   "metadata": {},
   "source": [
    "# GPS/INSの測位結果を用いて近似曲線を引くプログラム"
   ]
  },
  {
   "cell_type": "code",
   "execution_count": 1,
   "metadata": {},
   "outputs": [],
   "source": [
    "import pandas as pd\n",
    "import numpy as np\n",
    "import matplotlib.pyplot as plt\n",
    "from IPython.display import display\n",
    "from IPython.display import Math\n",
    "import openpyxl\n",
    "import itertools\n",
    "from decimal import Decimal,ROUND_HALF_UP\n",
    "from sklearn.metrics import r2_score\n",
    "from scipy.optimize import curve_fit\n",
    "from tqdm import tqdm\n",
    "import tendline\n",
    "import os"
   ]
  },
  {
   "cell_type": "code",
   "execution_count": 2,
   "metadata": {},
   "outputs": [],
   "source": [
    "\"\"\"DataFrameの成型\"\"\"\n",
    "\"\"\"\n",
    "DataFrameにおける空白行と空白列を削除する。\n",
    "ただし、特徴量がEL以外の場合は平均をとるので空白列も削除しない。\n",
    "\"\"\"\n",
    "\n",
    "def DataFrame(df,x,y):\n",
    "    y_ave=np.zeros((len(y),1))\n",
    "    \n",
    "    #DataFrame_空白行削除 x,y更新\n",
    "    print(\"空白行の削除中\")\n",
    "    for i in tqdm(range(len(df)-1,-1,-1)):\n",
    "      k=1\n",
    "      for j in range(len(df.columns)):\n",
    "        if pd.isna(df.iloc[i,j])==True:\n",
    "            k+=1\n",
    "            if k==len(df.columns):\n",
    "               x.drop(index=i,inplace=True)\n",
    "               y.drop(index=i,inplace=True)\n",
    "\n",
    "    x.reset_index(inplace=True,drop=True)\n",
    "    y.reset_index(inplace=True,drop=True)\n",
    "\n",
    "    #DataFrame_空白列削除 x,y更新\n",
    "    #EL or SNR：yにおいて、ある列すべての要素(疑似距離残差)がNanの場合、その列と、xにおいて対応する列を削除\n",
    "    if len(x.columns)==len(y.columns):\n",
    "      print(\"空白列の削除中\")\n",
    "      for j in tqdm(range(len(y.columns)-1,-1,-1)):\n",
    "        k=1\n",
    "        for i in range(len(y)):\n",
    "          if pd.isna(y.iloc[i,j])==True:\n",
    "             k+=1\n",
    "             if k==len(y):\n",
    "                x.drop(columns=x.columns[j],inplace=True)\n",
    "                y.drop(columns=y.columns[j],inplace=True)\n",
    "\n",
    "    #DOP,NSAT：yにおいて、エポックごとの各衛星の疑似距離残差の平均を取る(Nanはスキップ)\n",
    "    else:\n",
    "      print(\"疑似距離残差の平均値を計算中\")\n",
    "      for i in tqdm(range(len(y))):\n",
    "        y_ave[i,0]=y.iloc[i].abs().sum(skipna=True)\n",
    "        y_ave[i,0]=y_ave[i,0]/(y.count(axis=1).iloc[i])\n",
    "    \n",
    "    return (x,y,y_ave)"
   ]
  },
  {
   "cell_type": "code",
   "execution_count": 3,
   "metadata": {},
   "outputs": [],
   "source": [
    "\"\"\"データ準備\"\"\"\n",
    "\"\"\"\n",
    "DataFrameからX：特徴量、Y：疑似距離残差(または疑似距離残差の平均値)を取り出し、それぞれに任意の操作を行う。\n",
    "Xに対しては四捨五入、Yに対しては絶対値をとるなど。Nanをスキップするのは両者共通。\n",
    "\"\"\"\n",
    "\n",
    "def array_data(x,y,y_ave):\n",
    "    #X_EL or SNR:要素が0以下、またはNanの場合Nanを返し、それ以外は四捨五入して整数に丸める\n",
    "    if len(x.columns)==len(y.columns):\n",
    "      print(\"Xデータの成型中_EL or SNR\")\n",
    "      for i in tqdm(range(len(x))):\n",
    "        for j in range(len(x.columns)):\n",
    "          if x.iloc[i,j]<0 or pd.isna(x.iloc[i,j])==True:\n",
    "             x.iloc[i,j]=None\n",
    "          else:\n",
    "             x.iloc[i,j]=Decimal(str(x.iloc[i,j])).quantize(Decimal(\"0\"),rounding=ROUND_HALF_UP)\n",
    "\n",
    "    #X_DOP：要素がNanの場合はNanを返し、それ以外は四捨五入して少数第2位までに丸める\n",
    "    elif len(x.columns)==5:\n",
    "      print(\"Xデータの成型中_DOP\")\n",
    "      for i in tqdm(range(len(x))):\n",
    "        for j in range(len(x.columns)):\n",
    "          if pd.isna(x.iloc[i,j])==True:\n",
    "             x.iloc[i,j]=None\n",
    "          else:\n",
    "             x.iloc[i,j]=Decimal(str(x.iloc[i,j])).quantize(Decimal(\"0.01\"),rounding=ROUND_HALF_UP)\n",
    "\n",
    "    #X_NSAT:要素がNanの場合はNanを返し、それ以外はそのままの値を返す\n",
    "    else:\n",
    "      print(\"Xデータの成型中_NSAT\")\n",
    "      for i in tqdm(range(len(x))):\n",
    "        for j in range(len(x.columns)):\n",
    "          if pd.isna(x.iloc[i,j])==True:\n",
    "             x.iloc[i,j]=None\n",
    "          else:\n",
    "             x.iloc[i,j]=x.iloc[i,j]\n",
    "\n",
    "    #Y_EL or SNR：要素がNanの場合はNanを返し、それ以外は絶対値を返す\n",
    "    if len(x.columns)==len(y.columns):\n",
    "       print(\"Yデータの成型中_EL or SNR\")\n",
    "       for i in tqdm(range(len(y))):\n",
    "         for j in range(len(y.columns)):\n",
    "           if y.iloc[i,j]<0:\n",
    "              y.iloc[i,j]=(-1)*y.iloc[i,j]\n",
    "           elif pd.isna(y.iloc[i,j])==True:\n",
    "              y.iloc[i,j]=None\n",
    "           else:\n",
    "              y.iloc[i,j]=y.iloc[i,j]\n",
    "\n",
    "    #Y_DOP or NSAT：疑似距離残差の平均を返す\n",
    "    else:\n",
    "      print(\"Yデータの成型中_DOP or NSAT\")\n",
    "      for i in tqdm(range(len(y))):\n",
    "          y.iloc[i,0]=y_ave[i,0]\n",
    "      y.drop(columns=y.columns[[range(1,len(y.columns),1)]],inplace=True)\n",
    "      y.columns=[\"range_residual_ave\"]\n",
    "    \n",
    "    #結果出力用のDataFrame\n",
    "    df3=pd.concat([x,y],axis=1)\n",
    "\n",
    "    return (x,y,df3)"
   ]
  },
  {
   "cell_type": "code",
   "execution_count": 9,
   "metadata": {},
   "outputs": [],
   "source": [
    "\"\"\"RMS算出\"\"\"\n",
    "\n",
    "def RMS(x,y):\n",
    "        \n",
    "    rms=np.zeros((len(x),1))\n",
    "    \n",
    "    #RMS_NSAT\n",
    "    if len(x.columns)==1 and len(y.columns)==1:\n",
    "      X=\"NSAT\"\n",
    "      print(\"RMS算出中_NSAT\")\n",
    "\n",
    "      param_max=int(input(\"param_maxを入力してください(ex/param_max=32,stepは1で固定)\"))\n",
    "      residual_max=int(input(\"residual_maxを設定しますか？(No=0,Yes=設定したいresidual_maxの値)\"))\n",
    "\n",
    "      step=1\n",
    "      for param in tqdm(np.arange(0,param_max,step)):\n",
    "        k=0\n",
    "        l=0\n",
    "        for i in range(len(x)):\n",
    "          if pd.isna(y.iloc[i,0])==False and x.iloc[i,0]==param: \n",
    "              k+=1\n",
    "              l+=pow(y.iloc[i,0],2)\n",
    "              rms[int(Decimal(param/step).quantize(Decimal(\"0\"),rounding=ROUND_HALF_UP)),0]=np.sqrt(l/k)\n",
    "          elif k==0:\n",
    "              rms[int(Decimal(param/step).quantize(Decimal(\"0\"),rounding=ROUND_HALF_UP)),0]=0\n",
    "\n",
    "    #RMS_DOP\n",
    "    elif len(x.columns)==5 and len(y.columns)==1:\n",
    "      print(\"RMS算出中_DOP\")\n",
    "\n",
    "      DOP=int(input(\"DOPを選択してください(G=0,P=1,H=2,V=3,T=4)\"))\n",
    "      print(\"param_maxとstepを入力してください(ex/param_max=4.5,step=0.01)\")\n",
    "      param_max,step=map(float,input().split())\n",
    "        \n",
    "      DOP_type=[\"G\",\"P\",\"H\",\"V\",\"T\"]\n",
    "        \n",
    "      X=\"{}DOP\".format(DOP_type[DOP])\n",
    "\n",
    "      residual_max=int(input(\"residual_maxを設定しますか？(No=0,Yes=設定したいresidual_maxの値)\"))\n",
    "\n",
    "      for param in tqdm(np.arange(0,param_max,step)):\n",
    "        k=0\n",
    "        l=0\n",
    "        for i in range(len(x)):\n",
    "          if pd.isna(y.iloc[i,0])==False and pd.isna(x.iloc[i,0])==False and abs(Decimal(x.iloc[i,DOP])-Decimal(str(param)))<1e-10:\n",
    "              k+=1\n",
    "              l+=pow(y.iloc[i,0],2)\n",
    "              rms[int(Decimal(param/step).quantize(Decimal(\"0\"),rounding=ROUND_HALF_UP)),0]=np.sqrt(l/k)\n",
    "          elif k==0:\n",
    "              rms[int(Decimal(param/step).quantize(Decimal(\"0\"),rounding=ROUND_HALF_UP)),0]=0\n",
    "\n",
    "    #RMS_EL or SNR\n",
    "    else:\n",
    "      X=\"EL or SNR\"\n",
    "      print(\"RMS算出中_EL or SNR\")\n",
    "\n",
    "      print(\"param_maxとstepを入力してください(ex/EL:param_max=91,step=5_SNR:param_max=50,step=1)\")\n",
    "\n",
    "      param_max,step=map(int,input().split())\n",
    "      residual_max=int(input(\"residual_maxを設定しますか？(No=0,Yes=設定したいresidual_maxの値)\"))\n",
    "\n",
    "      for param in tqdm(range(0,param_max,step)):\n",
    "        k=0\n",
    "        l=0\n",
    "        for i in range(len(x)):\n",
    "          for j in range(len(x.columns)):\n",
    "            if pd.isna(y.iloc[i,j])==False and x.iloc[i,j]==param:\n",
    "                k+=1\n",
    "                l+=pow(y.iloc[i,j],2)\n",
    "                rms[int(Decimal(param/step).quantize(Decimal(\"0\"),rounding=ROUND_HALF_UP)),0]=np.sqrt(l/k)\n",
    "            elif k==0:\n",
    "                rms[int(Decimal(param/step).quantize(Decimal(\"0\"),rounding=ROUND_HALF_UP)),0]=0\n",
    "                \n",
    "    #RMSが出力される最終行+1を求める\n",
    "    init=0\n",
    "    if param_max%step==0:\n",
    "      init=int(Decimal(param/step).quantize(Decimal(\"0\"),rounding=ROUND_HALF_UP))+1\n",
    "    else:\n",
    "      init=int(Decimal(np.ceil(param_max/step)).quantize(Decimal(\"0\"),rounding=ROUND_HALF_UP))\n",
    "\n",
    "    #データ整理\n",
    "    rms=np.delete(rms,range(init,len(x),1),axis=0)\n",
    "    x_pre=pd.DataFrame(np.arange(0,param_max,step))\n",
    "    y_pre=pd.DataFrame(rms)\n",
    "    \n",
    "    #結果出力用のDataFrame\n",
    "    df4=pd.concat([x_pre,y_pre],axis=1)\n",
    "    \n",
    "    #residual_maxの設定\n",
    "    for param in np.arange(0,param_max,step)[::-1]:\n",
    "      if residual_max==0:\n",
    "         if y_pre.iloc[int(Decimal(param/step).quantize(Decimal(\"0\"),rounding=ROUND_HALF_UP))][0]==0:\n",
    "            df4=df4.drop(index=int(Decimal(param/step).quantize(Decimal(\"0\"),rounding=ROUND_HALF_UP)))\n",
    "      else:\n",
    "         if y_pre.iloc[int(Decimal(param/step).quantize(Decimal(\"0\"),rounding=ROUND_HALF_UP))][0]==0 or \\\n",
    "            y_pre.iloc[int(Decimal(param/step).quantize(Decimal(\"0\"),rounding=ROUND_HALF_UP))][0]>residual_max:\n",
    "            df4=df4.drop(index=int(Decimal(param/step).quantize(Decimal(\"0\"),rounding=ROUND_HALF_UP)))\n",
    "\n",
    "    df4.columns=[\"{}\".format(X),\"疑似距離残差RMS\"]\n",
    "    \n",
    "    #グラフ描画\n",
    "    fig1=plt.figure()\n",
    "    \n",
    "    plt.title(\"range error model\")\n",
    "    plt.xlabel(\"{}\".format(X))\n",
    "    plt.ylabel(\"pseudo-range residual\")\n",
    "    plt.grid(True)\n",
    "    \n",
    "    if len(x.columns)==len(y.columns):\n",
    "       plt.scatter(x,y)\n",
    "    else:\n",
    "       plt.scatter(x.iloc[:,DOP],y)\n",
    "    \n",
    "    return (rms,df4,param_max,step,residual_max,X,fig1)"
   ]
  },
  {
   "cell_type": "code",
   "execution_count": 10,
   "metadata": {},
   "outputs": [
    {
     "name": "stderr",
     "output_type": "stream",
     "text": [
      "  0%|                                                                                 | 2/4852 [00:00<05:18, 15.22it/s]"
     ]
    },
    {
     "name": "stdout",
     "output_type": "stream",
     "text": [
      "列名を追加中\n"
     ]
    },
    {
     "name": "stderr",
     "output_type": "stream",
     "text": [
      "100%|██████████████████████████████████████████████████████████████████████████████| 4852/4852 [02:22<00:00, 33.95it/s]\n"
     ]
    }
   ],
   "source": [
    "#ファイル読み込み\n",
    "#NSAT=16を想定(最終列は19+3*(16-1)+1=215)\n",
    "col_names=[\"c{0:02d}\".format(i) for i in range(215)]\n",
    "df1=pd.read_csv(\"log.tightly.csv\", names=col_names)\n",
    "col_size=len(df1.columns)\n",
    "\n",
    "#列名を追加\n",
    "print(\"列名を追加中\")\n",
    "\n",
    "df1.rename(columns={df1.columns[0]:\"Time\"},inplace=True)\n",
    "df1.rename(columns={df1.columns[1]:\"NSAT\"},inplace=True)\n",
    "df1.rename(columns={df1.columns[2]:\"GDOP\"},inplace=True)\n",
    "df1.rename(columns={df1.columns[3]:\"PDOP\"},inplace=True)\n",
    "df1.rename(columns={df1.columns[4]:\"HDOP\"},inplace=True)\n",
    "df1.rename(columns={df1.columns[5]:\"VDOP\"},inplace=True)\n",
    "df1.rename(columns={df1.columns[6]:\"TDOP\"},inplace=True)\n",
    "\n",
    "sat_max=int(df1.max(skipna=True)[1])\n",
    "\n",
    "for i in tqdm(range(0,len(df1),1)):\n",
    "  if np.isnan(df1.iloc[i,1])==False:\n",
    "     for j in range(7,7+13*(sat_max-1)+1,13):\n",
    "       sat_num=int(df1.max(skipna=True)[j])\n",
    "       df1[\"satellite({0:02d})\".format(sat_num)]=df1[\"c{0:02d}\".format(j)]\n",
    "       df1[\"range_residual({0:02d})\".format(sat_num)]=df1[\"c{0:02d}\".format(j+1)]\n",
    "       df1[\"sigma_range_residual({0:02d})({0:02d})\".format(sat_num)]=df1[\"c{0:02d}\".format(j+2)]\n",
    "       df1[\"range_rate({0:02d})\".format(sat_num)]=df1[\"c{0:02d}\".format(j+3)]\n",
    "       df1[\"sigma_range_rate({0:02d})\".format(sat_num)]=df1[\"c{0:02d}\".format(j+4)]\n",
    "       df1[\"AZ({0:02d})\".format(sat_num)]=df1[\"c{0:02d}\".format(j+5)]\n",
    "       df1[\"EL({0:02d})\".format(sat_num)]=df1[\"c{0:02d}\".format(j+6)]\n",
    "       df1[\"pseudo_range_L1CA({0:02d})\".format(sat_num)]=df1[\"c{0:02d}\".format(j+7)]\n",
    "       df1[\"SNR_L1CA({0:02d})\".format(sat_num)]=df1[\"c{0:02d}\".format(j+8)]\n",
    "       df1[\"pseudo_range_L2CM({0:02d})\".format(sat_num)]=df1[\"c{0:02d}\".format(j+9)]\n",
    "       df1[\"SNR_L2CM({0:02d})\".format(sat_num)]=df1[\"c{0:02d}\".format(j+10)]\n",
    "       df1[\"pseudo_range_L2CL({0:02d})\".format(sat_num)]=df1[\"c{0:02d}\".format(j+11)]\n",
    "       df1[\"SNR_L2CL({0:02d})\".format(sat_num)]=df1[\"c{0:02d}\".format(j+12)]\n",
    "        \n",
    "df1.drop(columns=[\"c{0:02d}\".format(i) for i in range(7,col_size)],inplace=True)\n",
    "\n",
    "#df1.head()"
   ]
  },
  {
   "cell_type": "code",
   "execution_count": 31,
   "metadata": {
    "scrolled": true
   },
   "outputs": [],
   "source": [
    "#必要な諸量のデータ成型 df2\n",
    "#x=EL：list(range(13,13+13*(sat_max-1)+1,13))\n",
    "#x=DOP：list(range(2,7))\n",
    "#x=NSAT：1:2\n",
    "#x=SNR_L1：list(range(15,15+13*(sat_max-1)+1,13))\n",
    "#x=SNR_L2CM：list(range(17,17+13*(sat_max-1)+1,13))\n",
    "#x=SNR_L2CL：list(range(19,19+13*(int(sat_max-1)+1,13))\n",
    "#y=疑似距離残差：list(range(8,8+13*(sat_max-1)+1,13))\n",
    "#y=疑似距離レート：list(range(9,9+13*(sat_max-1)+1,13))\n",
    "#変更する箇所(特徴量の選択)\n",
    "x=df1.iloc[:,list(range(2,7))].copy()\n",
    "y=df1.iloc[:,list(range(8,8+13*(sat_max-1)+1,13))].copy()\n",
    "\n",
    "#DOP,NSATの場合はソートしない\n",
    "if len(x.columns)!=5:\n",
    "   x.sort_index(axis=1,inplace=True)\n",
    "\n",
    "y.sort_index(axis=1,inplace=True)\n",
    "chain=itertools.chain(x,y)\n",
    "df2=df1.loc[:,list(chain)]\n",
    "#df2.head()"
   ]
  },
  {
   "cell_type": "code",
   "execution_count": 32,
   "metadata": {},
   "outputs": [
    {
     "name": "stderr",
     "output_type": "stream",
     "text": [
      " 19%|██████████████▊                                                              | 931/4852 [00:00<00:00, 9151.73it/s]"
     ]
    },
    {
     "name": "stdout",
     "output_type": "stream",
     "text": [
      "空白行の削除中\n"
     ]
    },
    {
     "name": "stderr",
     "output_type": "stream",
     "text": [
      "100%|████████████████████████████████████████████████████████████████████████████| 4852/4852 [00:00<00:00, 9604.29it/s]\n",
      "  3%|██▎                                                                          | 145/4851 [00:00<00:03, 1437.89it/s]"
     ]
    },
    {
     "name": "stdout",
     "output_type": "stream",
     "text": [
      "疑似距離残差の平均値を計算中\n"
     ]
    },
    {
     "name": "stderr",
     "output_type": "stream",
     "text": [
      "100%|████████████████████████████████████████████████████████████████████████████| 4851/4851 [00:03<00:00, 1404.05it/s]\n",
      "  3%|█▉                                                                           | 122/4851 [00:00<00:03, 1210.79it/s]"
     ]
    },
    {
     "name": "stdout",
     "output_type": "stream",
     "text": [
      "Xデータの成型中_DOP\n"
     ]
    },
    {
     "name": "stderr",
     "output_type": "stream",
     "text": [
      "100%|████████████████████████████████████████████████████████████████████████████| 4851/4851 [00:03<00:00, 1359.69it/s]\n",
      " 49%|█████████████████████████████████████                                      | 2400/4851 [00:00<00:00, 11380.90it/s]"
     ]
    },
    {
     "name": "stdout",
     "output_type": "stream",
     "text": [
      "Yデータの成型中_DOP or NSAT\n"
     ]
    },
    {
     "name": "stderr",
     "output_type": "stream",
     "text": [
      "100%|███████████████████████████████████████████████████████████████████████████| 4851/4851 [00:00<00:00, 11511.27it/s]\n",
      "C:\\Users\\tsujii1\\anaconda3\\lib\\site-packages\\pandas\\core\\indexes\\base.py:3941: FutureWarning: Using a non-tuple sequence for multidimensional indexing is deprecated; use `arr[tuple(seq)]` instead of `arr[seq]`. In the future this will be interpreted as an array index, `arr[np.array(seq)]`, which will result either in an error or a different result.\n",
      "  result = getitem(key)\n"
     ]
    }
   ],
   "source": [
    "#DataFrameの成型\n",
    "x,y,y_ave=DataFrame(df2,x,y)\n",
    "#データの準備\n",
    "x,y,df3=array_data(x,y,y_ave)\n",
    "#df3.head()"
   ]
  },
  {
   "cell_type": "code",
   "execution_count": 48,
   "metadata": {
    "scrolled": false
   },
   "outputs": [
    {
     "name": "stdout",
     "output_type": "stream",
     "text": [
      "RMS算出中_DOP\n",
      "DOPを選択してください(G=0,P=1,H=2,V=3,T=4)0\n",
      "param_maxとstepを入力してください(ex/param_max=4.5,step=0.01)\n",
      "3.0 0.01\n",
      "residual_maxを設定しますか？(No=0,Yes=設定したいresidual_maxの値)0\n"
     ]
    },
    {
     "name": "stderr",
     "output_type": "stream",
     "text": [
      "100%|████████████████████████████████████████████████████████████████████████████████| 300/300 [00:36<00:00,  8.31it/s]\n"
     ]
    },
    {
     "data": {
      "image/png": "[encoded data removed]",
      "text/plain": [
       "<Figure size 432x288 with 1 Axes>"
      ]
     },
     "metadata": {
      "needs_background": "light"
     },
     "output_type": "display_data"
    }
   ],
   "source": [
    "#RMS算出\n",
    "rms,df4,param_max,step,residual_max,X,fig1=RMS(x,y)"
   ]
  },
  {
   "cell_type": "code",
   "execution_count": 49,
   "metadata": {},
   "outputs": [
    {
     "name": "stdout",
     "output_type": "stream",
     "text": [
      "      2\n",
      "31.6 x - 80.24 x + 74.26\n",
      "0.16391806338513404\n"
     ]
    },
    {
     "data": {
      "text/latex": [
       "$\\displaystyle y=ae^x$"
      ],
      "text/plain": [
       "<IPython.core.display.Math object>"
      ]
     },
     "metadata": {},
     "output_type": "display_data"
    },
    {
     "name": "stdout",
     "output_type": "stream",
     "text": [
      "[11.71177684]\n",
      "-0.508190891901737\n"
     ]
    },
    {
     "data": {
      "text/latex": [
       "$\\displaystyle y=a^x$"
      ],
      "text/plain": [
       "<IPython.core.display.Math object>"
      ]
     },
     "metadata": {},
     "output_type": "display_data"
    },
    {
     "name": "stdout",
     "output_type": "stream",
     "text": [
      "[9.2253171]\n",
      "-1.201962369348471\n"
     ]
    },
    {
     "data": {
      "text/latex": [
       "$\\displaystyle y=e^{ax}$"
      ],
      "text/plain": [
       "<IPython.core.display.Math object>"
      ]
     },
     "metadata": {},
     "output_type": "display_data"
    },
    {
     "name": "stdout",
     "output_type": "stream",
     "text": [
      "[2.2219497]\n",
      "-1.201962369415961\n"
     ]
    },
    {
     "data": {
      "text/latex": [
       "$\\displaystyle y=a^{\\frac{1}{x}}$"
      ],
      "text/plain": [
       "<IPython.core.display.Math object>"
      ]
     },
     "metadata": {},
     "output_type": "display_data"
    },
    {
     "name": "stdout",
     "output_type": "stream",
     "text": [
      "[2.16700509]\n",
      "-0.8853983992755858\n"
     ]
    },
    {
     "data": {
      "text/latex": [
       "$\\displaystyle y=(\\frac{1}{x})^{a}$"
      ],
      "text/plain": [
       "<IPython.core.display.Math object>"
      ]
     },
     "metadata": {},
     "output_type": "display_data"
    },
    {
     "name": "stdout",
     "output_type": "stream",
     "text": [
      "[2.59666117]\n",
      "-0.7622221730303151\n"
     ]
    },
    {
     "data": {
      "text/latex": [
       "$\\displaystyle y=\\frac{a}{x}$"
      ],
      "text/plain": [
       "<IPython.core.display.Math object>"
      ]
     },
     "metadata": {},
     "output_type": "display_data"
    },
    {
     "name": "stdout",
     "output_type": "stream",
     "text": [
      "[16.53854013]\n",
      "0.054295011385122605\n"
     ]
    },
    {
     "data": {
      "text/latex": [
       "$\\displaystyle y=a+blog(x)$"
      ],
      "text/plain": [
       "<IPython.core.display.Math object>"
      ]
     },
     "metadata": {},
     "output_type": "display_data"
    },
    {
     "name": "stdout",
     "output_type": "stream",
     "text": [
      "[ 27.68328243 -20.12016517]\n",
      "0.16757880633831557\n"
     ]
    },
    {
     "data": {
      "text/latex": [
       "$\\displaystyle y=a^{\\frac{1}{x}}+\\frac{b}{x}$"
      ],
      "text/plain": [
       "<IPython.core.display.Math object>"
      ]
     },
     "metadata": {},
     "output_type": "display_data"
    },
    {
     "name": "stdout",
     "output_type": "stream",
     "text": [
      "[ 1.00012956 16.16704492]\n",
      "0.06795210701722887\n"
     ]
    },
    {
     "data": {
      "text/latex": [
       "$\\displaystyle y=\\frac{a}{sin(x)}$"
      ],
      "text/plain": [
       "<IPython.core.display.Math object>"
      ]
     },
     "metadata": {},
     "output_type": "display_data"
    },
    {
     "name": "stdout",
     "output_type": "stream",
     "text": [
      "[0.2886503]\n",
      "0.0543095412304222\n"
     ]
    },
    {
     "data": {
      "text/latex": [
       "$\\displaystyle y=\\frac{a}{e^{bx}sin(x)}$"
      ],
      "text/plain": [
       "<IPython.core.display.Math object>"
      ]
     },
     "metadata": {},
     "output_type": "display_data"
    },
    {
     "name": "stdout",
     "output_type": "stream",
     "text": [
      "[2.39444218e+04 2.93892977e+00]\n",
      "0.042276638736111094\n"
     ]
    }
   ],
   "source": [
    "#近似曲線を算出\n",
    "if df4.size==0:\n",
    "   print(\"Error!：param_maxの値が小さすぎます\")\n",
    "\n",
    "else:\n",
    "   data_x,\\\n",
    "   data_y,data_y1,data_y2,data_y3,data_y4,data_y5,data_y6,data_y7,data_y8,data_y9,data_y10,\\\n",
    "   popt1,popt2,popt3,popt4,popt5,popt6,popt7,popt8,popt9,popt10\\\n",
    "   =tendline.tendline_all(df4)\n",
    "\n",
    "#結果出力用のDataFrame\n",
    "df5=pd.DataFrame\\\n",
    "([[\"𝑦=𝑎𝑒^𝑥\",popt1],[\"𝑦=𝑎^𝑥\",popt2],[\"𝑦=𝑒^(𝑎𝑥)\",popt3],[\"𝑦=𝑎^(1/𝑥)\",popt4],[\"𝑦=(1/𝑥)^𝑎\",popt5],[\"𝑦=𝑎/𝑥\",popt6],[\"𝑦=𝑎+𝑏𝑙𝑜𝑔(𝑥)\",popt7],[\"𝑦=𝑎^(1/𝑥)+𝑏/𝑥\",popt8],[\"𝑦=𝑎/𝑠𝑖𝑛(𝑥)\",popt9],[\"𝑦=𝑎/𝑒^(𝑏𝑥)𝑠𝑖𝑛(𝑥)\",popt10]])\n",
    "\n",
    "df5.columns=[\"近似曲線\",\"パラメータ\"]"
   ]
  },
  {
   "cell_type": "code",
   "execution_count": 50,
   "metadata": {},
   "outputs": [
    {
     "name": "stdout",
     "output_type": "stream",
     "text": [
      "近似曲線/GPS_INS/DOP/GDOPに保存しました\n"
     ]
    },
    {
     "data": {
      "image/png": "[encoded data removed]",
      "text/plain": [
       "<Figure size 432x288 with 1 Axes>"
      ]
     },
     "metadata": {
      "needs_background": "light"
     },
     "output_type": "display_data"
    }
   ],
   "source": [
    "#近似曲線のグラフとデータを保存するディレクトリを指定\n",
    "path=os.getcwd()\n",
    "if X==\"NSAT\" or X==\"EL or SNR\":\n",
    "  dir=\"近似曲線/GPS_INS/{}\".format(X)\n",
    "\n",
    "  new_path=path+\"/{}/residual_max\".format(dir)\n",
    "  os.makedirs(new_path,exist_ok=True)\n",
    "\n",
    "else:\n",
    "  dir=\"近似曲線/GPS_INS/DOP/{}\".format(X)\n",
    "  \n",
    "  new_path=path+\"/{}/residual_max\".format(dir)\n",
    "  os.makedirs(new_path,exist_ok=True)\n",
    "\n",
    "#結果を出力\n",
    "if residual_max==0:\n",
    "  with pd.ExcelWriter(r\"{}/データ_{}_param_max={}_step={}.xlsx\".format(dir,X,param_max,step,residual_max)) as writer:\n",
    "    df2.to_excel(writer,index=False,sheet_name=\"生データ(x,y)\")\n",
    "    df3.to_excel(writer,index=False,sheet_name=\"成型後データ\")\n",
    "    df4.to_excel(writer,index=False,sheet_name=\"RMS近似曲線のデータ\")\n",
    "    df5.to_excel(writer,index=False,sheet_name=\"近似曲線のパラメータ\")\n",
    "else:\n",
    "  with pd.ExcelWriter(r\"{}/データ_{}_param_max={}_step={}_residual_max={}.xlsx\".format(new_path,X,param_max,step,residual_max)) as writer:\n",
    "    df2.to_excel(writer,index=False,sheet_name=\"生データ(x,y)\")\n",
    "    df3.to_excel(writer,index=False,sheet_name=\"成型後データ\")\n",
    "    df4.to_excel(writer,index=False,sheet_name=\"RMS近似曲線のデータ\")\n",
    "    df5.to_excel(writer,index=False,sheet_name=\"近似曲線のパラメータ\")\n",
    "\n",
    "fig2=plt.figure()\n",
    "\n",
    "#グラフ描画\n",
    "plt.title(\"range error model\")\n",
    "plt.xlabel(\"{}\".format(X))\n",
    "plt.ylabel(\"pseudo-range residual RMS\")\n",
    "plt.grid(True)\n",
    "plt.scatter(df4.iloc[:,0],df4.iloc[:,1])\n",
    "\n",
    "if X==\"EL or SNR\":\n",
    "  #線形\n",
    "  #plt.plot(data_x,data_y,label=\"LS\")\n",
    "  #plt.plot(data_x,data_y1,label=r\"$y=ae^x$\")\n",
    "  plt.plot(data_x,data_y6,label=r\"$y=\\frac{a}{x}$\")\n",
    "  plt.plot(data_x,data_y7,label=r\"$y=a+blog(x)$\")\n",
    "  plt.plot(data_x,data_y9,label=r\"$y=\\frac{a}{sin(x)}$\")\n",
    "  #非線形\n",
    "  #plt.plot(data_x,data_y2,label=r\"$y=a^x$\")\n",
    "  #plt.plot(data_x,data_y3,label=r\"$y=e^{ax}$\")\n",
    "  #plt.plot(data_x,data_y4,label=r\"$y=a^{\\frac{1}{x}}$\")\n",
    "  #plt.plot(data_x,data_y5,label=r\"$y=(\\frac{1}{x})^a$\")\n",
    "  plt.plot(data_x,data_y10,label=r\"$y=\\frac{a}{e^{bx}sin(x)}$\")\n",
    "  plt.plot(data_x,data_y8,label=r\"$y=a^{\\frac{1}{x}}+\\frac{b}{x}$\")\n",
    "elif X==\"NSAT\":\n",
    "  #線形\n",
    "  plt.plot(data_x,data_y,label=\"LS\")\n",
    "  plt.plot(data_x,data_y1,label=r\"$y=ae^x$\")\n",
    "  plt.plot(data_x,data_y6,label=r\"$y=\\frac{a}{x}$\")\n",
    "  plt.plot(data_x,data_y7,label=r\"$y=a+blog(x)$\")\n",
    "  plt.plot(data_x,data_y9,label=r\"$y=\\frac{a}{sin(x)}$\")\n",
    "  #非線形\n",
    "  plt.plot(data_x,data_y2,label=r\"$y=a^x$\")\n",
    "  plt.plot(data_x,data_y3,label=r\"$y=e^{ax}$\")\n",
    "  plt.plot(data_x,data_y4,label=r\"$y=a^{\\frac{1}{x}}$\")\n",
    "  plt.plot(data_x,data_y5,label=r\"$y=(\\frac{1}{x})^a$\")\n",
    "  plt.plot(data_x,data_y10,label=r\"$y=\\frac{a}{e^{bx}sin(x)}$\")\n",
    "  plt.plot(data_x,data_y8,label=r\"$y=a^{\\frac{1}{x}}+\\frac{b}{x}$\")\n",
    "else:\n",
    "  #線形\n",
    "  plt.plot(data_x,data_y,label=\"LS\")\n",
    "  #plt.plot(data_x,data_y1,label=r\"$y=ae^x$\")\n",
    "  #plt.plot(data_x,data_y6,label=r\"$y=\\frac{a}{x}$\")\n",
    "  plt.plot(data_x,data_y7,label=r\"$y=a+blog(x)$\")\n",
    "  #plt.plot(data_x,data_y9,label=r\"$y=\\frac{a}{sin(x)}$\")\n",
    "  #非線形\n",
    "  plt.plot(data_x,data_y2,label=r\"$y=a^x$\")\n",
    "  plt.plot(data_x,data_y3,label=r\"$y=e^{ax}$\")\n",
    "  #plt.plot(data_x,data_y4,label=r\"$y=a^{\\frac{1}{x}}$\")\n",
    "  #plt.plot(data_x,data_y5,label=r\"$y=(\\frac{1}{x})^a$\")\n",
    "  plt.plot(data_x,data_y10,label=r\"$y=\\frac{a}{e^{bx}sin(x)}$\")\n",
    "  #plt.plot(data_x,data_y8,label=r\"$y=a^{\\frac{1}{x}}+\\frac{b}{x}$\")\n",
    "\n",
    "plt.legend(loc=\"upper left\",bbox_to_anchor=(1,1.04),fontsize=14)\n",
    "\n",
    "#グラフを画像データとして保存\n",
    "if residual_max==0:\n",
    "  fig1.savefig(r\"{}/測距誤差モデル.png\".format(dir),bbox_inches='tight')\n",
    "  fig2.savefig(r\"{}/近似曲線_{}_param_max={}_step={}.png\".format(dir,X,param_max,step,residual_max),bbox_inches='tight')\n",
    "  print(\"{}に保存しました\".format(dir))\n",
    "else:\n",
    "  fig1.savefig(r\"{}/測距誤差モデル.png\".format(new_path),bbox_inches='tight')\n",
    "  fig2.savefig(r\"{}/近似曲線_{}_param_max={}_step={}_residual_max={}.png\".format(new_path,X,param_max,step,residual_max),bbox_inches='tight')\n",
    "  print(\"{}/residual_maxに保存しました\".format(dir))"
   ]
  },
  {
   "cell_type": "code",
   "execution_count": null,
   "metadata": {},
   "outputs": [],
   "source": []
  }
 ],
 "metadata": {
  "kernelspec": {
   "display_name": "Python 3",
   "language": "python",
   "name": "python3"
  },
  "language_info": {
   "codemirror_mode": {
    "name": "ipython",
    "version": 3
   },
   "file_extension": ".py",
   "mimetype": "text/x-python",
   "name": "python",
   "nbconvert_exporter": "python",
   "pygments_lexer": "ipython3",
   "version": "3.8.3"
  }
 },
 "nbformat": 4,
 "nbformat_minor": 4
}
